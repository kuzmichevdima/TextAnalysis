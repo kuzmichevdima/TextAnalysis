{
 "cells": [
  {
   "cell_type": "code",
   "execution_count": 1,
   "metadata": {
    "collapsed": true
   },
   "outputs": [],
   "source": [
    "import pandas as pd\n",
    "import string\n",
    "from sklearn.feature_extraction.text import CountVectorizer\n",
    "import numpy as np"
   ]
  },
  {
   "cell_type": "code",
   "execution_count": 2,
   "metadata": {
    "collapsed": true
   },
   "outputs": [],
   "source": [
    "df = pd.read_csv('/root/MyDocker/Emails.csv')"
   ]
  },
  {
   "cell_type": "code",
   "execution_count": 3,
   "metadata": {
    "collapsed": false
   },
   "outputs": [
    {
     "data": {
      "text/html": [
       "<div>\n",
       "<table border=\"1\" class=\"dataframe\">\n",
       "  <thead>\n",
       "    <tr style=\"text-align: right;\">\n",
       "      <th></th>\n",
       "      <th>Id</th>\n",
       "      <th>DocNumber</th>\n",
       "      <th>MetadataSubject</th>\n",
       "      <th>MetadataTo</th>\n",
       "      <th>MetadataFrom</th>\n",
       "      <th>SenderPersonId</th>\n",
       "      <th>MetadataDateSent</th>\n",
       "      <th>MetadataDateReleased</th>\n",
       "      <th>MetadataPdfLink</th>\n",
       "      <th>MetadataCaseNumber</th>\n",
       "      <th>...</th>\n",
       "      <th>ExtractedTo</th>\n",
       "      <th>ExtractedFrom</th>\n",
       "      <th>ExtractedCc</th>\n",
       "      <th>ExtractedDateSent</th>\n",
       "      <th>ExtractedCaseNumber</th>\n",
       "      <th>ExtractedDocNumber</th>\n",
       "      <th>ExtractedDateReleased</th>\n",
       "      <th>ExtractedReleaseInPartOrFull</th>\n",
       "      <th>ExtractedBodyText</th>\n",
       "      <th>RawText</th>\n",
       "    </tr>\n",
       "  </thead>\n",
       "  <tbody>\n",
       "    <tr>\n",
       "      <th>0</th>\n",
       "      <td>1</td>\n",
       "      <td>C05739545</td>\n",
       "      <td>WOW</td>\n",
       "      <td>H</td>\n",
       "      <td>Sullivan, Jacob J</td>\n",
       "      <td>87</td>\n",
       "      <td>2012-09-12T04:00:00+00:00</td>\n",
       "      <td>2015-05-22T04:00:00+00:00</td>\n",
       "      <td>DOCUMENTS/HRC_Email_1_296/HRCH2/DOC_0C05739545...</td>\n",
       "      <td>F-2015-04841</td>\n",
       "      <td>...</td>\n",
       "      <td>NaN</td>\n",
       "      <td>Sullivan, Jacob J &lt;Sullivan11@state.gov&gt;</td>\n",
       "      <td>NaN</td>\n",
       "      <td>Wednesday, September 12, 2012 10:16 AM</td>\n",
       "      <td>F-2015-04841</td>\n",
       "      <td>C05739545</td>\n",
       "      <td>05/13/2015</td>\n",
       "      <td>RELEASE IN FULL</td>\n",
       "      <td>NaN</td>\n",
       "      <td>UNCLASSIFIED\\nU.S. Department of State\\nCase N...</td>\n",
       "    </tr>\n",
       "    <tr>\n",
       "      <th>1</th>\n",
       "      <td>2</td>\n",
       "      <td>C05739546</td>\n",
       "      <td>H: LATEST: HOW SYRIA IS AIDING QADDAFI AND MOR...</td>\n",
       "      <td>H</td>\n",
       "      <td>NaN</td>\n",
       "      <td>NaN</td>\n",
       "      <td>2011-03-03T05:00:00+00:00</td>\n",
       "      <td>2015-05-22T04:00:00+00:00</td>\n",
       "      <td>DOCUMENTS/HRC_Email_1_296/HRCH1/DOC_0C05739546...</td>\n",
       "      <td>F-2015-04841</td>\n",
       "      <td>...</td>\n",
       "      <td>NaN</td>\n",
       "      <td>NaN</td>\n",
       "      <td>NaN</td>\n",
       "      <td>NaN</td>\n",
       "      <td>F-2015-04841</td>\n",
       "      <td>C05739546</td>\n",
       "      <td>05/13/2015</td>\n",
       "      <td>RELEASE IN PART</td>\n",
       "      <td>B6\\nThursday, March 3, 2011 9:45 PM\\nH: Latest...</td>\n",
       "      <td>UNCLASSIFIED\\nU.S. Department of State\\nCase N...</td>\n",
       "    </tr>\n",
       "    <tr>\n",
       "      <th>2</th>\n",
       "      <td>3</td>\n",
       "      <td>C05739547</td>\n",
       "      <td>CHRIS STEVENS</td>\n",
       "      <td>;H</td>\n",
       "      <td>Mills, Cheryl D</td>\n",
       "      <td>32</td>\n",
       "      <td>2012-09-12T04:00:00+00:00</td>\n",
       "      <td>2015-05-22T04:00:00+00:00</td>\n",
       "      <td>DOCUMENTS/HRC_Email_1_296/HRCH2/DOC_0C05739547...</td>\n",
       "      <td>F-2015-04841</td>\n",
       "      <td>...</td>\n",
       "      <td>B6</td>\n",
       "      <td>Mills, Cheryl D &lt;MillsCD@state.gov&gt;</td>\n",
       "      <td>Abedin, Huma</td>\n",
       "      <td>Wednesday, September 12, 2012 11:52 AM</td>\n",
       "      <td>F-2015-04841</td>\n",
       "      <td>C05739547</td>\n",
       "      <td>05/14/2015</td>\n",
       "      <td>RELEASE IN PART</td>\n",
       "      <td>Thx</td>\n",
       "      <td>UNCLASSIFIED\\nU.S. Department of State\\nCase N...</td>\n",
       "    </tr>\n",
       "    <tr>\n",
       "      <th>3</th>\n",
       "      <td>4</td>\n",
       "      <td>C05739550</td>\n",
       "      <td>CAIRO CONDEMNATION - FINAL</td>\n",
       "      <td>H</td>\n",
       "      <td>Mills, Cheryl D</td>\n",
       "      <td>32</td>\n",
       "      <td>2012-09-12T04:00:00+00:00</td>\n",
       "      <td>2015-05-22T04:00:00+00:00</td>\n",
       "      <td>DOCUMENTS/HRC_Email_1_296/HRCH2/DOC_0C05739550...</td>\n",
       "      <td>F-2015-04841</td>\n",
       "      <td>...</td>\n",
       "      <td>NaN</td>\n",
       "      <td>Mills, Cheryl D &lt;MillsCD@state.gov&gt;</td>\n",
       "      <td>Mitchell, Andrew B</td>\n",
       "      <td>Wednesday, September 12,2012 12:44 PM</td>\n",
       "      <td>F-2015-04841</td>\n",
       "      <td>C05739550</td>\n",
       "      <td>05/13/2015</td>\n",
       "      <td>RELEASE IN PART</td>\n",
       "      <td>NaN</td>\n",
       "      <td>UNCLASSIFIED\\nU.S. Department of State\\nCase N...</td>\n",
       "    </tr>\n",
       "    <tr>\n",
       "      <th>4</th>\n",
       "      <td>5</td>\n",
       "      <td>C05739554</td>\n",
       "      <td>H: LATEST: HOW SYRIA IS AIDING QADDAFI AND MOR...</td>\n",
       "      <td>Abedin, Huma</td>\n",
       "      <td>H</td>\n",
       "      <td>80</td>\n",
       "      <td>2011-03-11T05:00:00+00:00</td>\n",
       "      <td>2015-05-22T04:00:00+00:00</td>\n",
       "      <td>DOCUMENTS/HRC_Email_1_296/HRCH1/DOC_0C05739554...</td>\n",
       "      <td>F-2015-04841</td>\n",
       "      <td>...</td>\n",
       "      <td>NaN</td>\n",
       "      <td>NaN</td>\n",
       "      <td>NaN</td>\n",
       "      <td>NaN</td>\n",
       "      <td>F-2015-04841</td>\n",
       "      <td>C05739554</td>\n",
       "      <td>05/13/2015</td>\n",
       "      <td>RELEASE IN PART</td>\n",
       "      <td>H &lt;hrod17@clintonemail.com&gt;\\nFriday, March 11,...</td>\n",
       "      <td>B6\\nUNCLASSIFIED\\nU.S. Department of State\\nCa...</td>\n",
       "    </tr>\n",
       "  </tbody>\n",
       "</table>\n",
       "<p>5 rows × 22 columns</p>\n",
       "</div>"
      ],
      "text/plain": [
       "   Id  DocNumber                                    MetadataSubject  \\\n",
       "0   1  C05739545                                                WOW   \n",
       "1   2  C05739546  H: LATEST: HOW SYRIA IS AIDING QADDAFI AND MOR...   \n",
       "2   3  C05739547                                      CHRIS STEVENS   \n",
       "3   4  C05739550                         CAIRO CONDEMNATION - FINAL   \n",
       "4   5  C05739554  H: LATEST: HOW SYRIA IS AIDING QADDAFI AND MOR...   \n",
       "\n",
       "     MetadataTo       MetadataFrom  SenderPersonId           MetadataDateSent  \\\n",
       "0             H  Sullivan, Jacob J              87  2012-09-12T04:00:00+00:00   \n",
       "1             H                NaN             NaN  2011-03-03T05:00:00+00:00   \n",
       "2            ;H    Mills, Cheryl D              32  2012-09-12T04:00:00+00:00   \n",
       "3             H    Mills, Cheryl D              32  2012-09-12T04:00:00+00:00   \n",
       "4  Abedin, Huma                  H              80  2011-03-11T05:00:00+00:00   \n",
       "\n",
       "        MetadataDateReleased  \\\n",
       "0  2015-05-22T04:00:00+00:00   \n",
       "1  2015-05-22T04:00:00+00:00   \n",
       "2  2015-05-22T04:00:00+00:00   \n",
       "3  2015-05-22T04:00:00+00:00   \n",
       "4  2015-05-22T04:00:00+00:00   \n",
       "\n",
       "                                     MetadataPdfLink MetadataCaseNumber  \\\n",
       "0  DOCUMENTS/HRC_Email_1_296/HRCH2/DOC_0C05739545...       F-2015-04841   \n",
       "1  DOCUMENTS/HRC_Email_1_296/HRCH1/DOC_0C05739546...       F-2015-04841   \n",
       "2  DOCUMENTS/HRC_Email_1_296/HRCH2/DOC_0C05739547...       F-2015-04841   \n",
       "3  DOCUMENTS/HRC_Email_1_296/HRCH2/DOC_0C05739550...       F-2015-04841   \n",
       "4  DOCUMENTS/HRC_Email_1_296/HRCH1/DOC_0C05739554...       F-2015-04841   \n",
       "\n",
       "                         ...                         ExtractedTo  \\\n",
       "0                        ...                                 NaN   \n",
       "1                        ...                                 NaN   \n",
       "2                        ...                                  B6   \n",
       "3                        ...                                 NaN   \n",
       "4                        ...                                 NaN   \n",
       "\n",
       "                              ExtractedFrom         ExtractedCc  \\\n",
       "0  Sullivan, Jacob J <Sullivan11@state.gov>                 NaN   \n",
       "1                                       NaN                 NaN   \n",
       "2       Mills, Cheryl D <MillsCD@state.gov>        Abedin, Huma   \n",
       "3       Mills, Cheryl D <MillsCD@state.gov>  Mitchell, Andrew B   \n",
       "4                                       NaN                 NaN   \n",
       "\n",
       "                        ExtractedDateSent ExtractedCaseNumber  \\\n",
       "0  Wednesday, September 12, 2012 10:16 AM        F-2015-04841   \n",
       "1                                     NaN        F-2015-04841   \n",
       "2  Wednesday, September 12, 2012 11:52 AM        F-2015-04841   \n",
       "3   Wednesday, September 12,2012 12:44 PM        F-2015-04841   \n",
       "4                                     NaN        F-2015-04841   \n",
       "\n",
       "  ExtractedDocNumber ExtractedDateReleased ExtractedReleaseInPartOrFull  \\\n",
       "0          C05739545            05/13/2015              RELEASE IN FULL   \n",
       "1          C05739546            05/13/2015              RELEASE IN PART   \n",
       "2          C05739547            05/14/2015              RELEASE IN PART   \n",
       "3          C05739550            05/13/2015              RELEASE IN PART   \n",
       "4          C05739554            05/13/2015              RELEASE IN PART   \n",
       "\n",
       "                                   ExtractedBodyText  \\\n",
       "0                                                NaN   \n",
       "1  B6\\nThursday, March 3, 2011 9:45 PM\\nH: Latest...   \n",
       "2                                                Thx   \n",
       "3                                                NaN   \n",
       "4  H <hrod17@clintonemail.com>\\nFriday, March 11,...   \n",
       "\n",
       "                                             RawText  \n",
       "0  UNCLASSIFIED\\nU.S. Department of State\\nCase N...  \n",
       "1  UNCLASSIFIED\\nU.S. Department of State\\nCase N...  \n",
       "2  UNCLASSIFIED\\nU.S. Department of State\\nCase N...  \n",
       "3  UNCLASSIFIED\\nU.S. Department of State\\nCase N...  \n",
       "4  B6\\nUNCLASSIFIED\\nU.S. Department of State\\nCa...  \n",
       "\n",
       "[5 rows x 22 columns]"
      ]
     },
     "execution_count": 3,
     "metadata": {},
     "output_type": "execute_result"
    }
   ],
   "source": [
    "df.head()"
   ]
  },
  {
   "cell_type": "code",
   "execution_count": 4,
   "metadata": {
    "collapsed": true
   },
   "outputs": [],
   "source": [
    "texts = df['RawText'].values"
   ]
  },
  {
   "cell_type": "code",
   "execution_count": 5,
   "metadata": {
    "collapsed": false
   },
   "outputs": [],
   "source": [
    "texts = [x.translate(None, string.punctuation) for x in texts]"
   ]
  },
  {
   "cell_type": "code",
   "execution_count": 6,
   "metadata": {
    "collapsed": false
   },
   "outputs": [
    {
     "name": "stdout",
     "output_type": "stream",
     "text": [
      "UNCLASSIFIED\n",
      "US Department of State\n",
      "Case No F201504841\n",
      "Doc No C05739545\n",
      "Date 05132015\n",
      "STATE DEPT  PRODUCED TO HOUSE SELECT BENGHAZI COMM\n",
      "SUBJECT TO AGREEMENT ON SENSITIVE INFORMATION  REDACTIONS NO FOIA WAIVER\n",
      "RELEASE IN FULL\n",
      "From Sullivan Jacob J Sullivan11stategov\n",
      "Sent Wednesday September 12 2012 1016 AM\n",
      "To\n",
      "Subject FW Wow\n",
      "From Brose Christian Armed Services mailtoChristianBrosearmedservicessenategovi\n",
      "Sent Wednesday September 12 2012 1009 AM\n",
      "To Sullivan Jacob J\n",
      "Subject Wow\n",
      "What a wonderful strong and moving statement by your boss please tell her how much Sen McCain appreciated it Me\n",
      "too\n",
      "UNCLASSIFIED\n",
      "US Department of State\n",
      "Case No F201504841\n",
      "Doc No C05739545\n",
      "Date 05132015\n",
      "STATE DEPT  PRODUCED TO HOUSE SELECT BENGHAZI COMM\n",
      "SUBJECT TO AGREEMENT ON SENSITIVE INFORMATION  REDACTIONS NO FOIA WAIVER STATE5CB0045247\n",
      "\f",
      "\n"
     ]
    }
   ],
   "source": [
    "print(texts[0])"
   ]
  },
  {
   "cell_type": "code",
   "execution_count": 7,
   "metadata": {
    "collapsed": false
   },
   "outputs": [
    {
     "data": {
      "text/plain": [
       "'UNCLASSIFIED\\nUS Department of State\\nCase No F201504841\\nDoc No C05739545\\nDate 05132015\\nSTATE DEPT  PRODUCED TO HOUSE SELECT BENGHAZI COMM\\nSUBJECT TO AGREEMENT ON SENSITIVE INFORMATION  REDACTIONS NO FOIA WAIVER\\nRELEASE IN FULL\\nFrom Sullivan Jacob J Sullivan11stategov\\nSent Wednesday September 12 2012 1016 AM\\nTo\\nSubject FW Wow\\nFrom Brose Christian Armed Services mailtoChristianBrosearmedservicessenategovi\\nSent Wednesday September 12 2012 1009 AM\\nTo Sullivan Jacob J\\nSubject Wow\\nWhat a wonderful strong and moving statement by your boss please tell her how much Sen McCain appreciated it Me\\ntoo\\nUNCLASSIFIED\\nUS Department of State\\nCase No F201504841\\nDoc No C05739545\\nDate 05132015\\nSTATE DEPT  PRODUCED TO HOUSE SELECT BENGHAZI COMM\\nSUBJECT TO AGREEMENT ON SENSITIVE INFORMATION  REDACTIONS NO FOIA WAIVER STATE5CB0045247\\n\\x0c'"
      ]
     },
     "execution_count": 7,
     "metadata": {},
     "output_type": "execute_result"
    }
   ],
   "source": [
    "texts[0]"
   ]
  },
  {
   "cell_type": "markdown",
   "metadata": {},
   "source": [
    "#### чтобы отсеять биграммы, связанные с форматом письма (US Department of State, Doc No и т.д.), возьмем max_df=0.2"
   ]
  },
  {
   "cell_type": "code",
   "execution_count": 8,
   "metadata": {
    "collapsed": false
   },
   "outputs": [],
   "source": [
    "count_vectorizer = CountVectorizer(stop_words='english', min_df=10, max_df=500, ngram_range=(2,2), preprocessor=lambda x : x.replace('\\n', ' '))\n",
    "matrix = count_vectorizer.fit_transform(texts)"
   ]
  },
  {
   "cell_type": "code",
   "execution_count": 9,
   "metadata": {
    "collapsed": false
   },
   "outputs": [],
   "source": [
    "bigrams_freq = matrix.sum(axis=0).tolist()[0]"
   ]
  },
  {
   "cell_type": "code",
   "execution_count": 10,
   "metadata": {
    "collapsed": false
   },
   "outputs": [],
   "source": [
    "voc = count_vectorizer.vocabulary_"
   ]
  },
  {
   "cell_type": "markdown",
   "metadata": {},
   "source": [
    "#### оставим только нормальные биграммы, а именно исключим биграммы только из upper-case букв и цифр, а также содержащие слова Sent, To, From, Subject, Date"
   ]
  },
  {
   "cell_type": "code",
   "execution_count": 61,
   "metadata": {
    "collapsed": true
   },
   "outputs": [],
   "source": [
    "ban_list = ['Sent', 'To', 'From', 'Subject', 'Date']"
   ]
  },
  {
   "cell_type": "code",
   "execution_count": 11,
   "metadata": {
    "collapsed": false
   },
   "outputs": [],
   "source": [
    "\n",
    "def good_bigram(x):\n",
    "    if x.upper() == x:\n",
    "        return False\n",
    "    for banned in ban_list:\n",
    "        if banned in x:\n",
    "            return False\n",
    "    return True\n",
    "bigrams = [(bigrams_freq[voc[x]], x) for x in voc.keys() if good_bigram(x)]\n",
    "bigrams.sort(reverse=True)"
   ]
  },
  {
   "cell_type": "code",
   "execution_count": 12,
   "metadata": {
    "collapsed": false
   },
   "outputs": [
    {
     "data": {
      "text/plain": [
       "[(1696L, u'No F201504841'),\n",
       " (1695L, u'F201504841 Doc'),\n",
       " (1118L, u'State Department'),\n",
       " (1022L, u'White House'),\n",
       " (938L, u'Jiloty Lauren'),\n",
       " (685L, u'Prime Minister'),\n",
       " (616L, u'New York'),\n",
       " (610L, u'Valmoro Lona'),\n",
       " (590L, u'Secretarys Office'),\n",
       " (545L, u'Verma Richard'),\n",
       " (518L, u'foreign policy'),\n",
       " (516L, u'Cc Abedin'),\n",
       " (505L, u'Cc Sullivan'),\n",
       " (492L, u'human rights'),\n",
       " (480L, u'Secretary Clinton'),\n",
       " (476L, u'let know'),\n",
       " (473L, u'Middle East'),\n",
       " (472L, u'Hillary Clinton'),\n",
       " (467L, u'Lauren JilotyLCstategov'),\n",
       " (434L, u'Reines Philippe')]"
      ]
     },
     "execution_count": 12,
     "metadata": {},
     "output_type": "execute_result"
    }
   ],
   "source": [
    "bigrams[:20]"
   ]
  },
  {
   "cell_type": "code",
   "execution_count": 13,
   "metadata": {
    "collapsed": false
   },
   "outputs": [],
   "source": [
    "words = [x.replace('\\n', ' ').split(' ') for x in texts]"
   ]
  },
  {
   "cell_type": "markdown",
   "metadata": {},
   "source": [
    "### nltk"
   ]
  },
  {
   "cell_type": "code",
   "execution_count": 62,
   "metadata": {
    "collapsed": false
   },
   "outputs": [],
   "source": [
    "import nltk\n",
    "from nltk.collocations import *\n",
    "bigram_measures = nltk.collocations.BigramAssocMeasures()\n",
    "ignored_words = nltk.corpus.stopwords.words('english')\n",
    "def nltk_bad_word(w):\n",
    "    return len(w) < 3 or (any(char.isdigit() for char in w)) or w.lower() in ignored_words or w.upper() == w or w in ban_list"
   ]
  },
  {
   "cell_type": "code",
   "execution_count": 63,
   "metadata": {
    "collapsed": false
   },
   "outputs": [
    {
     "name": "stderr",
     "output_type": "stream",
     "text": [
      "/root/miniconda/envs/rep_py2/lib/python2.7/site-packages/ipykernel/__main__.py:6: UnicodeWarning: Unicode equal comparison failed to convert both arguments to Unicode - interpreting them as being unequal\n"
     ]
    },
    {
     "data": {
      "text/plain": [
       "[('State', 'Case'),\n",
       " ('Original', 'Message'),\n",
       " ('Mills', 'Cheryl'),\n",
       " ('Abedin', 'Huma'),\n",
       " ('Sullivan', 'Jacob'),\n",
       " ('United', 'States'),\n",
       " ('Huma', 'AbedinHstategov'),\n",
       " ('Jiloty', 'Lauren'),\n",
       " ('White', 'House'),\n",
       " ('Prime', 'Minister'),\n",
       " ('New', 'York'),\n",
       " ('Valmoro', 'Lona'),\n",
       " ('Huma', 'Abedin'),\n",
       " ('Verma', 'Richard'),\n",
       " ('Middle', 'East'),\n",
       " ('Reines', 'Philippe'),\n",
       " ('Secretarys', 'Office'),\n",
       " ('human', 'rights'),\n",
       " ('Slaughter', 'AnneMarie'),\n",
       " ('foreign', 'policy')]"
      ]
     },
     "execution_count": 63,
     "metadata": {},
     "output_type": "execute_result"
    }
   ],
   "source": [
    "finder = BigramCollocationFinder.from_documents(words)\n",
    "finder.apply_word_filter(lambda w: nltk_bad_word(w))\n",
    "finder.nbest(bigram_measures.likelihood_ratio, 20)\n"
   ]
  },
  {
   "cell_type": "code",
   "execution_count": 56,
   "metadata": {
    "collapsed": true
   },
   "outputs": [
    {
     "name": "stdout",
     "output_type": "stream",
     "text": [
      "NLTK Downloader\n",
      "---------------------------------------------------------------------------\n",
      "    d) Download   l) List    u) Update   c) Config   h) Help   q) Quit\n",
      "---------------------------------------------------------------------------\n",
      "Downloader> l\n",
      "\n",
      "Packages:\n",
      "  [ ] abc................. Australian Broadcasting Commission 2006\n",
      "  [ ] alpino.............. Alpino Dutch Treebank\n",
      "  [ ] averaged_perceptron_tagger Averaged Perceptron Tagger\n",
      "  [ ] averaged_perceptron_tagger_ru Averaged Perceptron Tagger (Russian)\n",
      "  [ ] basque_grammars..... Grammars for Basque\n",
      "  [ ] biocreative_ppi..... BioCreAtIvE (Critical Assessment of Information\n",
      "                           Extraction Systems in Biology)\n",
      "  [ ] bllip_wsj_no_aux.... BLLIP Parser: WSJ Model\n",
      "  [ ] book_grammars....... Grammars from NLTK Book\n",
      "  [ ] brown............... Brown Corpus\n",
      "  [ ] brown_tei........... Brown Corpus (TEI XML Version)\n",
      "  [ ] cess_cat............ CESS-CAT Treebank\n",
      "  [ ] cess_esp............ CESS-ESP Treebank\n",
      "  [ ] chat80.............. Chat-80 Data Files\n",
      "  [ ] city_database....... City Database\n",
      "  [ ] cmudict............. The Carnegie Mellon Pronouncing Dictionary (0.6)\n",
      "  [ ] comparative_sentences Comparative Sentence Dataset\n",
      "  [ ] comtrans............ ComTrans Corpus Sample\n",
      "  [ ] conll2000........... CONLL 2000 Chunking Corpus\n",
      "  [ ] conll2002........... CONLL 2002 Named Entity Recognition Corpus\n",
      "Hit Enter to continue: corpora\n",
      "  [ ] conll2007........... Dependency Treebanks from CoNLL 2007 (Catalan\n",
      "                           and Basque Subset)\n",
      "  [ ] crubadan............ Crubadan Corpus\n",
      "  [ ] dependency_treebank. Dependency Parsed Treebank\n",
      "  [ ] europarl_raw........ Sample European Parliament Proceedings Parallel\n",
      "                           Corpus\n",
      "  [ ] floresta............ Portuguese Treebank\n",
      "  [ ] framenet_v15........ FrameNet 1.5\n",
      "  [ ] gazetteers.......... Gazeteer Lists\n",
      "  [ ] genesis............. Genesis Corpus\n",
      "  [ ] gutenberg........... Project Gutenberg Selections\n",
      "  [ ] hmm_treebank_pos_tagger Treebank Part of Speech Tagger (HMM)\n",
      "  [ ] ieer................ NIST IE-ER DATA SAMPLE\n",
      "  [ ] inaugural........... C-Span Inaugural Address Corpus\n",
      "  [ ] indian.............. Indian Language POS-Tagged Corpus\n",
      "  [ ] jeita............... JEITA Public Morphologically Tagged Corpus (in\n",
      "                           ChaSen format)\n",
      "  [ ] kimmo............... PC-KIMMO Data Files\n",
      "  [ ] knbc................ KNB Corpus (Annotated blog corpus)\n",
      "  [ ] large_grammars...... Large context-free and feature-based grammars\n",
      "                           for parser comparison\n",
      "Hit Enter to continue: \n",
      "  [ ] lin_thesaurus....... Lin's Dependency Thesaurus\n",
      "  [ ] mac_morpho.......... MAC-MORPHO: Brazilian Portuguese news text with\n",
      "                           part-of-speech tags\n",
      "  [ ] machado............. Machado de Assis -- Obra Completa\n",
      "  [ ] masc_tagged......... MASC Tagged Corpus\n",
      "  [ ] maxent_ne_chunker... ACE Named Entity Chunker (Maximum entropy)\n",
      "  [ ] maxent_treebank_pos_tagger Treebank Part of Speech Tagger (Maximum entropy)\n",
      "  [ ] moses_sample........ Moses Sample Models\n",
      "  [ ] movie_reviews....... Sentiment Polarity Dataset Version 2.0\n",
      "  [ ] mte_teip5........... MULTEXT-East 1984 annotated corpus 4.0\n",
      "  [ ] names............... Names Corpus, Version 1.3 (1994-03-29)\n",
      "  [ ] nombank.1.0......... NomBank Corpus 1.0\n",
      "  [ ] nonbreaking_prefixes Non-Breaking Prefixes (Moses Decoder)\n",
      "  [ ] nps_chat............ NPS Chat\n",
      "  [ ] omw................. Open Multilingual Wordnet\n",
      "  [ ] opinion_lexicon..... Opinion Lexicon\n",
      "  [ ] panlex_lite......... PanLex Lite Corpus\n",
      "  [ ] panlex_swadesh...... PanLex Swadesh Corpora\n",
      "  [ ] paradigms........... Paradigm Corpus\n",
      "  [ ] pe08................ Cross-Framework and Cross-Domain Parser\n",
      "                           Evaluation Shared Task\n",
      "Hit Enter to continue: d\n",
      "  [ ] perluniprops........ perluniprops: Index of Unicode Version 7.0.0\n",
      "                           character properties in Perl\n",
      "  [ ] pil................. The Patient Information Leaflet (PIL) Corpus\n",
      "  [ ] pl196x.............. Polish language of the XX century sixties\n",
      "  [ ] porter_test......... Porter Stemmer Test Files\n",
      "  [ ] ppattach............ Prepositional Phrase Attachment Corpus\n",
      "  [ ] problem_reports..... Problem Report Corpus\n",
      "  [ ] product_reviews_1... Product Reviews (5 Products)\n",
      "  [ ] product_reviews_2... Product Reviews (9 Products)\n",
      "  [ ] propbank............ Proposition Bank Corpus 1.0\n",
      "  [ ] pros_cons........... Pros and Cons\n",
      "  [ ] ptb................. Penn Treebank\n",
      "  [ ] punkt............... Punkt Tokenizer Models\n",
      "  [ ] qc.................. Experimental Data for Question Classification\n",
      "  [ ] reuters............. The Reuters-21578 benchmark corpus, ApteMod\n",
      "                           version\n",
      "  [ ] rslp................ RSLP Stemmer (Removedor de Sufixos da Lingua\n",
      "                           Portuguesa)\n",
      "  [ ] rte................. PASCAL RTE Challenges 1, 2, and 3\n",
      "  [ ] sample_grammars..... Sample Grammars\n",
      "  [ ] semcor.............. SemCor 3.0\n",
      "Hit Enter to continue: dsd\n",
      "  [ ] senseval............ SENSEVAL 2 Corpus: Sense Tagged Text\n",
      "  [ ] sentence_polarity... Sentence Polarity Dataset v1.0\n",
      "  [ ] sentiwordnet........ SentiWordNet\n",
      "  [ ] shakespeare......... Shakespeare XML Corpus Sample\n",
      "  [ ] sinica_treebank..... Sinica Treebank Corpus Sample\n",
      "  [ ] smultron............ SMULTRON Corpus Sample\n",
      "  [ ] snowball_data....... Snowball Data\n",
      "  [ ] spanish_grammars.... Grammars for Spanish\n",
      "  [ ] state_union......... C-Span State of the Union Address Corpus\n",
      "  [ ] stopwords........... Stopwords Corpus\n",
      "  [ ] subjectivity........ Subjectivity Dataset v1.0\n",
      "  [ ] swadesh............. Swadesh Wordlists\n",
      "  [ ] switchboard......... Switchboard Corpus Sample\n",
      "  [ ] tagsets............. Help on Tagsets\n",
      "  [ ] timit............... TIMIT Corpus Sample\n",
      "  [ ] toolbox............. Toolbox Sample Files\n",
      "  [ ] treebank............ Penn Treebank Sample\n",
      "  [ ] twitter_samples..... Twitter Samples\n",
      "  [ ] udhr2............... Universal Declaration of Human Rights Corpus\n",
      "                           (Unicode Version)\n",
      "  [ ] udhr................ Universal Declaration of Human Rights Corpus\n",
      "Hit Enter to continue: corpora\n",
      "  [ ] unicode_samples..... Unicode Samples\n",
      "  [ ] universal_tagset.... Mappings to the Universal Part-of-Speech Tagset\n",
      "  [ ] universal_treebanks_v20 Universal Treebanks Version 2.0\n",
      "  [ ] vader_lexicon....... VADER Sentiment Lexicon\n",
      "  [ ] verbnet............. VerbNet Lexicon, Version 2.1\n",
      "  [ ] webtext............. Web Text Corpus\n",
      "  [ ] wmt15_eval.......... Evaluation data from WMT15\n",
      "  [ ] word2vec_sample..... Word2Vec Sample\n",
      "  [ ] wordnet............. WordNet\n",
      "  [ ] wordnet_ic.......... WordNet-InfoContent\n",
      "  [ ] words............... Word Lists\n",
      "  [ ] ycoe................ York-Toronto-Helsinki Parsed Corpus of Old\n",
      "                           English Prose\n",
      "\n",
      "Collections:\n",
      "  [ ] all-corpora......... All the corpora\n",
      "  [ ] all................. All packages\n",
      "  [ ] book................ Everything used in the NLTK Book\n",
      "\n",
      "([*] marks installed packages)\n",
      "\n",
      "---------------------------------------------------------------------------\n",
      "    d) Download   l) List    u) Update   c) Config   h) Help   q) Quit\n",
      "---------------------------------------------------------------------------\n",
      "Downloader> all-corpora\n",
      "Command 'all-corpora' unrecognized\n",
      "\n",
      "---------------------------------------------------------------------------\n",
      "    d) Download   l) List    u) Update   c) Config   h) Help   q) Quit\n",
      "---------------------------------------------------------------------------\n",
      "Downloader> d\n",
      "\n",
      "Download which package (l=list; x=cancel)?\n",
      "  Identifier> all-corpora\n",
      "    Downloading collection u'all-corpora'\n",
      "       | \n",
      "       | Downloading package abc to /root/nltk_data...\n",
      "       |   Unzipping corpora/abc.zip.\n",
      "       | Downloading package alpino to /root/nltk_data...\n",
      "       |   Unzipping corpora/alpino.zip.\n",
      "       | Downloading package biocreative_ppi to /root/nltk_data...\n",
      "       |   Unzipping corpora/biocreative_ppi.zip.\n",
      "       | Downloading package brown to /root/nltk_data...\n",
      "       |   Unzipping corpora/brown.zip.\n",
      "       | Downloading package brown_tei to /root/nltk_data...\n",
      "       |   Unzipping corpora/brown_tei.zip.\n",
      "       | Downloading package cess_cat to /root/nltk_data...\n",
      "       |   Unzipping corpora/cess_cat.zip.\n",
      "       | Downloading package cess_esp to /root/nltk_data...\n",
      "       |   Unzipping corpora/cess_esp.zip.\n",
      "       | Downloading package chat80 to /root/nltk_data...\n",
      "       |   Unzipping corpora/chat80.zip.\n",
      "       | Downloading package city_database to /root/nltk_data...\n",
      "       |   Unzipping corpora/city_database.zip.\n",
      "       | Downloading package cmudict to /root/nltk_data...\n",
      "       |   Unzipping corpora/cmudict.zip.\n",
      "       | Downloading package comtrans to /root/nltk_data...\n",
      "       | Downloading package conll2000 to /root/nltk_data...\n",
      "       |   Unzipping corpora/conll2000.zip.\n",
      "       | Downloading package conll2002 to /root/nltk_data...\n",
      "       |   Unzipping corpora/conll2002.zip.\n",
      "       | Downloading package conll2007 to /root/nltk_data...\n",
      "       | Downloading package crubadan to /root/nltk_data...\n",
      "       |   Unzipping corpora/crubadan.zip.\n",
      "       | Downloading package dependency_treebank to /root/nltk_data...\n",
      "       |   Unzipping corpora/dependency_treebank.zip.\n",
      "       | Downloading package floresta to /root/nltk_data...\n",
      "       |   Unzipping corpora/floresta.zip.\n",
      "       | Downloading package framenet_v15 to /root/nltk_data...\n",
      "       |   Unzipping corpora/framenet_v15.zip.\n",
      "       | Downloading package gazetteers to /root/nltk_data...\n",
      "       |   Unzipping corpora/gazetteers.zip.\n",
      "       | Downloading package genesis to /root/nltk_data...\n",
      "       |   Unzipping corpora/genesis.zip.\n",
      "       | Downloading package gutenberg to /root/nltk_data...\n",
      "       |   Unzipping corpora/gutenberg.zip.\n",
      "       | Downloading package ieer to /root/nltk_data...\n",
      "       |   Unzipping corpora/ieer.zip.\n",
      "       | Downloading package inaugural to /root/nltk_data...\n",
      "       |   Unzipping corpora/inaugural.zip.\n",
      "       | Downloading package indian to /root/nltk_data...\n",
      "       |   Unzipping corpora/indian.zip.\n",
      "       | Downloading package jeita to /root/nltk_data...\n",
      "       | Downloading package kimmo to /root/nltk_data...\n",
      "       |   Unzipping corpora/kimmo.zip.\n",
      "       | Downloading package knbc to /root/nltk_data...\n",
      "       | Downloading package lin_thesaurus to /root/nltk_data...\n",
      "       |   Unzipping corpora/lin_thesaurus.zip.\n",
      "       | Downloading package mac_morpho to /root/nltk_data...\n",
      "       |   Unzipping corpora/mac_morpho.zip.\n",
      "       | Downloading package machado to /root/nltk_data...\n",
      "       | Downloading package masc_tagged to /root/nltk_data...\n",
      "       | Downloading package movie_reviews to /root/nltk_data...\n",
      "       |   Unzipping corpora/movie_reviews.zip.\n",
      "       | Downloading package names to /root/nltk_data...\n",
      "       |   Unzipping corpora/names.zip.\n",
      "       | Downloading package nombank.1.0 to /root/nltk_data...\n",
      "       | Downloading package nps_chat to /root/nltk_data...\n",
      "       |   Unzipping corpora/nps_chat.zip.\n",
      "       | Downloading package omw to /root/nltk_data...\n",
      "       |   Unzipping corpora/omw.zip.\n",
      "       | Downloading package paradigms to /root/nltk_data...\n",
      "       |   Unzipping corpora/paradigms.zip.\n",
      "       | Downloading package pil to /root/nltk_data...\n",
      "       |   Unzipping corpora/pil.zip.\n",
      "       | Downloading package pl196x to /root/nltk_data...\n",
      "       |   Unzipping corpora/pl196x.zip.\n",
      "       | Downloading package ppattach to /root/nltk_data...\n",
      "       |   Unzipping corpora/ppattach.zip.\n",
      "       | Downloading package problem_reports to /root/nltk_data...\n",
      "       |   Unzipping corpora/problem_reports.zip.\n",
      "       | Downloading package propbank to /root/nltk_data...\n",
      "       | Downloading package ptb to /root/nltk_data...\n",
      "       |   Unzipping corpora/ptb.zip.\n",
      "       | Downloading package qc to /root/nltk_data...\n",
      "       |   Unzipping corpora/qc.zip.\n",
      "       | Downloading package reuters to /root/nltk_data...\n",
      "       | Downloading package rte to /root/nltk_data...\n",
      "       |   Unzipping corpora/rte.zip.\n",
      "       | Downloading package semcor to /root/nltk_data...\n",
      "       | Downloading package senseval to /root/nltk_data...\n",
      "       |   Unzipping corpora/senseval.zip.\n",
      "       | Downloading package sentiwordnet to /root/nltk_data...\n",
      "       |   Unzipping corpora/sentiwordnet.zip.\n",
      "       | Downloading package shakespeare to /root/nltk_data...\n",
      "       |   Unzipping corpora/shakespeare.zip.\n",
      "       | Downloading package sinica_treebank to /root/nltk_data...\n",
      "       |   Unzipping corpora/sinica_treebank.zip.\n",
      "       | Downloading package state_union to /root/nltk_data...\n",
      "       |   Unzipping corpora/state_union.zip.\n",
      "       | Downloading package stopwords to /root/nltk_data...\n",
      "       |   Unzipping corpora/stopwords.zip.\n",
      "       | Downloading package swadesh to /root/nltk_data...\n",
      "       |   Unzipping corpora/swadesh.zip.\n",
      "       | Downloading package switchboard to /root/nltk_data...\n",
      "       |   Unzipping corpora/switchboard.zip.\n",
      "       | Downloading package timit to /root/nltk_data...\n",
      "       |   Unzipping corpora/timit.zip.\n",
      "       | Downloading package toolbox to /root/nltk_data...\n",
      "       |   Unzipping corpora/toolbox.zip.\n",
      "       | Downloading package treebank to /root/nltk_data...\n",
      "       |   Unzipping corpora/treebank.zip.\n",
      "       | Downloading package udhr to /root/nltk_data...\n",
      "       |   Unzipping corpora/udhr.zip.\n",
      "       | Downloading package udhr2 to /root/nltk_data...\n",
      "       |   Unzipping corpora/udhr2.zip.\n",
      "       | Downloading package unicode_samples to /root/nltk_data...\n",
      "       |   Unzipping corpora/unicode_samples.zip.\n",
      "       | Downloading package universal_treebanks_v20 to\n",
      "       |     /root/nltk_data...\n",
      "       | Downloading package verbnet to /root/nltk_data...\n",
      "       |   Unzipping corpora/verbnet.zip.\n",
      "       | Downloading package webtext to /root/nltk_data...\n",
      "       |   Unzipping corpora/webtext.zip.\n",
      "       | Downloading package wordnet to /root/nltk_data...\n",
      "       |   Unzipping corpora/wordnet.zip.\n",
      "       | Downloading package wordnet_ic to /root/nltk_data...\n",
      "       |   Unzipping corpora/wordnet_ic.zip.\n",
      "       | Downloading package words to /root/nltk_data...\n",
      "       |   Unzipping corpora/words.zip.\n",
      "       | Downloading package ycoe to /root/nltk_data...\n",
      "       |   Unzipping corpora/ycoe.zip.\n",
      "       | Downloading package panlex_swadesh to /root/nltk_data...\n",
      "       | Downloading package mte_teip5 to /root/nltk_data...\n",
      "       |   Unzipping corpora/mte_teip5.zip.\n",
      "       | Downloading package panlex_lite to /root/nltk_data...\n",
      "       |   Unzipping corpora/panlex_lite.zip.\n",
      "       | Downloading package nonbreaking_prefixes to\n",
      "       |     /root/nltk_data...\n",
      "       |   Unzipping corpora/nonbreaking_prefixes.zip.\n",
      "       | \n",
      "     Done downloading collection all-corpora\n",
      "\n",
      "---------------------------------------------------------------------------\n",
      "    d) Download   l) List    u) Update   c) Config   h) Help   q) Quit\n",
      "---------------------------------------------------------------------------\n",
      "Downloader> q\n"
     ]
    },
    {
     "data": {
      "text/plain": [
       "True"
      ]
     },
     "execution_count": 56,
     "metadata": {},
     "output_type": "execute_result"
    }
   ],
   "source": [
    "nltk.download()"
   ]
  },
  {
   "cell_type": "markdown",
   "metadata": {},
   "source": [
    "### Clustering"
   ]
  },
  {
   "cell_type": "code",
   "execution_count": 14,
   "metadata": {
    "collapsed": true
   },
   "outputs": [],
   "source": [
    "from sklearn.cluster import KMeans"
   ]
  },
  {
   "cell_type": "markdown",
   "metadata": {},
   "source": [
    "#### здесь и далее будем считать, что кластеров 10"
   ]
  },
  {
   "cell_type": "code",
   "execution_count": 26,
   "metadata": {
    "collapsed": true
   },
   "outputs": [],
   "source": [
    "kmeans = KMeans(n_clusters=10)\n",
    "clusters = kmeans.fit_predict(matrix)"
   ]
  },
  {
   "cell_type": "code",
   "execution_count": 51,
   "metadata": {
    "collapsed": false
   },
   "outputs": [
    {
     "name": "stdout",
     "output_type": "stream",
     "text": [
      "=====================\n",
      "CLUSTER 0\n",
      "staff member\n",
      "March 29\n",
      "Security Programme\n",
      "Lady Ashton\n",
      "He served\n",
      "sullivanjjstategov Huma\n",
      "Chaplin Foreign\n",
      "May 29\n",
      "trade agreement\n",
      "Tuesday November\n",
      "=====================\n",
      "CLUSTER 1\n",
      "tells Special\n",
      "parties The\n",
      "need make\n",
      "business interests\n",
      "Im seeing\n",
      "Subject Tonight\n",
      "David UNCLASSIFIED\n",
      "Ive known\n",
      "He believes\n",
      "08312015 From\n",
      "=====================\n",
      "CLUSTER 2\n",
      "Alec Sent\n",
      "Im seeing\n",
      "Gen Stanley\n",
      "William Sent\n",
      "director time\n",
      "tells Special\n",
      "areas US\n",
      "contain information\n",
      "May 14\n",
      "Director Office\n",
      "=====================\n",
      "CLUSTER 3\n",
      "inquiry Britains\n",
      "opinion knowledgeable\n",
      "President Libya\n",
      "Is Shaun\n",
      "It did\n",
      "MONDAY MEETING\n",
      "The report\n",
      "know Ill\n",
      "2009 1009\n",
      "US Senate\n",
      "=====================\n",
      "CLUSTER 4\n",
      "William Sent\n",
      "Im seeing\n",
      "areas US\n",
      "Americans think\n",
      "PART B1\n",
      "He believes\n",
      "David UNCLASSIFIED\n",
      "1009 AM\n",
      "Subject Tonight\n",
      "Alec Sent\n",
      "=====================\n",
      "CLUSTER 5\n",
      "Im seeing\n",
      "Ive known\n",
      "Americans think\n",
      "William Sent\n",
      "PART B1\n",
      "Gen Stanley\n",
      "areas US\n",
      "contain information\n",
      "David UNCLASSIFIED\n",
      "May 14\n",
      "=====================\n",
      "CLUSTER 6\n",
      "Friday February\n",
      "To Jacobs\n",
      "The objective\n",
      "say intelligence\n",
      "Pally Maura\n",
      "relationship President\n",
      "revolutionary forces\n",
      "2009 1009\n",
      "Davutoglu agreed\n",
      "He served\n",
      "=====================\n",
      "CLUSTER 7\n",
      "Blair deal\n",
      "meeting confirmed\n",
      "want discuss\n",
      "away The\n",
      "ceremony goes\n",
      "power Ricketts\n",
      "He said\n",
      "relationship President\n",
      "conflicts nations\n",
      "944 AM\n",
      "=====================\n",
      "CLUSTER 8\n",
      "David UNCLASSIFIED\n",
      "Alec Sent\n",
      "director time\n",
      "PART B1\n",
      "Director Office\n",
      "May 14\n",
      "Im seeing\n",
      "He believes\n",
      "tells Special\n",
      "Americans think\n",
      "=====================\n",
      "CLUSTER 9\n",
      "Interior Minister\n",
      "sure people\n",
      "Hakim Alamin\n",
      "Richard Cc\n",
      "email strictly\n",
      "know youre\n",
      "532 PM\n",
      "close friend\n",
      "American citizens\n",
      "1030 PM\n"
     ]
    }
   ],
   "source": [
    "words_to_display = 10\n",
    "for cluster in range(10):\n",
    "    texts_in_cluster = [i for i in range(len(texts)) if clusters[i] == cluster]\n",
    "    part = matrix.toarray()[texts_in_cluster]\n",
    "    counters = part.sum(axis=0)\n",
    "    counters_order = np.argsort(counters)\n",
    "    print(\"=====================\\nCLUSTER {}\".format(cluster))\n",
    "    for idx in counters_order[-words_to_display:]:\n",
    "        print(voc.keys()[idx])"
   ]
  },
  {
   "cell_type": "code",
   "execution_count": 15,
   "metadata": {
    "collapsed": false
   },
   "outputs": [
    {
     "name": "stderr",
     "output_type": "stream",
     "text": [
      "/root/miniconda/envs/rep_py2/lib/python2.7/site-packages/gensim/utils.py:1015: UserWarning: Pattern library is not installed, lemmatization won't be available.\n",
      "  warnings.warn(\"Pattern library is not installed, lemmatization won't be available.\")\n"
     ]
    }
   ],
   "source": [
    "from gensim import matutils\n",
    "from gensim.models.ldamodel import LdaModel\n",
    "from gensim.corpora.dictionary import Dictionary\n",
    "import pyLDAvis.gensim"
   ]
  },
  {
   "cell_type": "code",
   "execution_count": 23,
   "metadata": {
    "collapsed": false
   },
   "outputs": [],
   "source": [
    "corpus = matutils.Sparse2Corpus(matrix)"
   ]
  },
  {
   "cell_type": "markdown",
   "metadata": {},
   "source": [
    "### LDA"
   ]
  },
  {
   "cell_type": "code",
   "execution_count": 20,
   "metadata": {
    "collapsed": false
   },
   "outputs": [],
   "source": [
    "v_dict = dict(enumerate(count_vectorizer.get_feature_names()))\n",
    "lda = LdaModel(corpus, passes=30, num_topics=10, id2word=v_dict)"
   ]
  },
  {
   "cell_type": "code",
   "execution_count": 24,
   "metadata": {
    "collapsed": true
   },
   "outputs": [],
   "source": [
    "dictionary = Dictionary.from_corpus(corpus, v_dict)\n",
    "corpus = matutils.Sparse2Corpus(corpus.sparse.T)"
   ]
  },
  {
   "cell_type": "code",
   "execution_count": 25,
   "metadata": {
    "collapsed": false
   },
   "outputs": [
    {
     "data": {
      "text/html": [
       "\n",
       "<link rel=\"stylesheet\" type=\"text/css\" href=\"https://cdn.rawgit.com/bmabey/pyLDAvis/files/ldavis.v1.0.0.css\">\n",
       "\n",
       "\n",
       "<div id=\"ldavis_el83311406681700971042746913847\"></div>\n",
       "<script type=\"text/javascript\">\n",
       "\n",
       "var ldavis_el83311406681700971042746913847_data = {\"plot.opts\": {\"xlab\": \"PC1\", \"ylab\": \"PC2\"}, \"topic.order\": [2, 5, 7, 8, 9, 1, 6, 3, 4, 10], \"token.table\": {\"Topic\": [1, 2, 3, 4, 5, 6, 7, 10, 6, 5, 2, 3, 9, 10, 3, 2, 3, 4, 7, 9, 8, 2, 3, 4, 10, 6, 6, 6, 2, 3, 10, 1, 2, 2, 3, 10, 2, 3, 4, 9, 3, 2, 3, 5, 7, 2, 4, 5, 10, 9, 2, 3, 5, 10, 2, 3, 7, 8, 4, 5, 7, 2, 3, 4, 6, 7, 8, 10, 2, 4, 6, 10, 2, 3, 6, 9, 10, 2, 3, 5, 7, 10, 9, 6, 1, 10, 7, 6, 7, 6, 7, 1, 6, 7, 1, 3, 2, 5, 9, 4, 1, 2, 2, 8, 4, 1, 5, 7, 9, 10, 4, 10, 5, 6, 3, 4, 10, 1, 6, 10, 5, 6, 1, 3, 5, 9, 1, 3, 4, 5, 7, 9, 1, 2, 3, 4, 5, 7, 8, 9, 1, 3, 2, 2, 4, 2, 2, 8, 7, 5, 8, 8, 9, 1, 5, 9, 1, 6, 3, 6, 9, 2, 3, 4, 5, 7, 9, 10, 1, 6, 7, 3, 3, 1, 2, 3, 4, 5, 7, 9, 3, 1, 3, 4, 5, 6, 2, 3, 7, 10, 1, 2, 3, 4, 5, 6, 8, 6, 6, 4, 10, 4, 5, 8, 3, 6, 4, 10, 1, 1, 9, 5, 6, 8, 5, 10, 6, 10, 8, 1, 1, 4, 8, 3, 9, 9, 3, 4, 7, 8, 10, 9, 2, 4, 2, 4, 6, 3, 1, 2, 7, 10, 1, 9, 10, 3, 2, 8, 9, 5, 1, 6, 7, 10, 9, 7, 6, 6, 8, 9, 4, 5, 2, 3, 3, 4, 6, 7, 9, 7, 5, 6, 4, 1, 3, 4, 5, 6, 7, 8, 9, 10, 2, 3, 4, 6, 7, 8, 3, 5, 3, 4, 10, 6, 7, 8, 1, 5, 4, 1, 1, 9, 1, 2, 3, 5, 9, 2, 3, 4, 7, 8, 3, 3, 4, 5, 9, 1, 2, 3, 4, 5, 7, 10, 1, 2, 3, 1, 3, 4, 6, 7, 10, 1, 7, 9, 8, 5, 1, 3, 4, 5, 7, 8, 9, 1, 2, 3, 4, 5, 6, 9, 3, 7, 10, 7, 10, 10, 10, 4, 6, 6, 4, 5, 4, 9, 10, 10, 10, 3, 5, 8, 6, 7, 10, 7, 7, 7, 7, 7, 9, 5, 6, 8, 7, 7, 9, 8, 10, 9, 7, 2, 3, 7, 8, 8, 10, 7, 5, 4, 5, 6, 4, 4, 3, 1, 2, 4, 5, 6, 9, 3, 4, 5, 10, 3, 1, 4, 10, 2, 2, 3, 6, 3, 1, 1, 1, 2, 4, 10, 1, 2, 8, 9, 10, 1, 2, 4, 2, 9, 1, 3, 5, 6, 1, 3, 4, 5, 7, 9, 8, 1, 2, 8, 5, 4, 2, 4, 1, 2, 4, 9, 1, 2, 3, 4, 8, 10, 2, 1, 8, 6, 9, 10, 7, 5, 6, 1, 4, 8, 4, 9, 5, 6, 5, 6, 5, 9, 4, 9, 1, 4, 1, 3, 1, 9, 3, 10, 1, 1, 9, 9, 3, 4, 5, 2, 9, 3, 4, 3, 1, 3, 5, 1, 2, 7, 8, 5, 3, 4, 4, 10, 10, 1, 2, 5, 8, 6, 8, 5, 1, 2, 3, 4, 5, 9, 1, 6, 7, 8, 3, 6, 8, 8, 2, 2, 1, 1, 4, 7, 10, 3, 8, 2, 9, 4, 6, 1, 2, 3, 4, 9, 10, 9, 4, 10, 3, 5, 6, 6, 2, 7, 1, 3, 4, 5, 6, 7, 8, 9, 5, 3, 6, 7, 1, 5, 3, 3, 6, 7, 5, 7, 2, 1, 1, 1, 9, 2, 4, 9, 1, 2, 3, 4, 9, 3, 4, 9, 10, 3, 5, 10, 4, 1, 2, 4, 10, 2, 3, 10, 1, 4, 7, 7, 8, 10, 1, 2, 3, 4, 7, 10, 5, 7, 4, 6, 7, 10, 6, 6, 3, 9, 8, 4, 2, 7, 7, 5, 6, 4, 3, 5, 3, 4, 5, 4, 8, 2, 6, 8, 1, 4, 7, 8, 9, 9, 1, 2, 3, 4, 5, 7, 2, 6, 9, 1, 10, 6, 2, 5, 2, 4, 5, 6, 4, 7, 1, 2, 6, 5, 3, 9, 1, 3, 4, 5, 2, 1, 2, 4, 6, 10, 5, 7, 7, 7, 7, 7, 10, 7, 5, 6, 5, 6, 4, 7, 1, 2, 7, 1, 2, 3, 4, 9, 10, 1, 3, 7, 5, 9, 3, 6, 10, 1, 5, 9, 7, 9, 10, 8, 2, 1, 2, 4, 6, 10, 9, 4, 6, 8, 2, 3, 5, 8, 4, 2, 7, 4, 8, 9, 6, 3, 4, 4, 8, 2, 3, 4, 6, 8, 2, 4, 1, 2, 4, 3, 8, 3, 4, 5, 6, 7, 9, 8, 1, 3, 4, 5, 6, 7, 8, 9, 10, 4, 9, 3, 4, 5, 8, 1, 2, 4, 2, 2, 9, 2, 2, 6, 8, 2, 8, 10, 10, 10, 10, 10, 8, 8, 8, 8, 5, 8, 1, 2, 4, 8, 2, 4, 10, 1, 2, 8, 2, 3, 4, 6, 8, 2, 3, 4, 6, 8, 2, 1, 1, 2, 3, 5, 9, 10, 8, 1, 3, 4, 7, 8, 9, 5, 7, 1, 2, 4, 6, 6], \"Freq\": [0.99930208773490548, 0.30136682170784429, 0.079927722279036967, 0.17950980249554202, 0.31315943647032513, 0.10220266127483414, 0.010482324233316322, 0.013102905291645404, 0.996028675226446, 0.99598329013404852, 0.19276338816461827, 0.22167789638931101, 0.5638329103815084, 0.024095423520577284, 0.99682258172090465, 0.12889741418063214, 0.54225808724265934, 0.14667636786071933, 0.16890005996082832, 0.0088894768400435958, 0.98347576116923363, 0.094001893541292528, 0.68013134738699887, 0.21012187968053622, 0.016588569448463385, 0.9982070158225187, 0.99698387005187783, 0.99706811763485714, 0.17550013585240878, 0.80635197553809435, 0.018972987659719869, 0.99642954183877586, 0.99491198293204453, 0.045406245668914387, 0.92326032860125917, 0.025225692038285771, 0.10699359168977715, 0.77327186721248031, 0.1215836269202013, 0.98230706587757866, 0.98482325328084974, 0.037282195954274774, 0.064396520284656436, 0.08812155407374038, 0.81004043937015191, 0.060733208902281698, 0.11594521699526507, 0.81161651896685549, 0.011042401618596672, 0.98174478458259695, 0.043273928374361864, 0.027046205233976165, 0.90875249586159912, 0.016227723140385699, 0.038051629300434986, 0.17123233185195744, 0.68873449033787326, 0.095129073251087465, 0.072647672016763948, 0.84941893434985549, 0.072647672016763948, 0.0067268249846040252, 0.16480721212279861, 0.13117308719977849, 0.097538962276758359, 0.49442163636839581, 0.10090237476906037, 0.0067268249846040252, 0.452155671837211, 0.0082210122152220171, 0.51381326345137612, 0.020552530538055044, 0.0038118034157088553, 0.37355673473946782, 0.022870820494253132, 0.27063804251532875, 0.32781509375096157, 0.13766496384235968, 0.62379436741069239, 0.01720812048029496, 0.19789338552339206, 0.021510150600368701, 0.98814570094767518, 0.99531088155756087, 0.99926757665060062, 0.99069599736865621, 0.98411155045480381, 0.10297223960038684, 0.89242607653668604, 0.10254005887643318, 0.89402113832890184, 0.062567309854134542, 0.11321703687891012, 0.81933381951842854, 0.027893755330373096, 0.95768559967614286, 0.9882731113418991, 0.067514503601456, 0.92832442452002006, 0.98891167250378664, 0.99408812098354382, 0.98944243288476552, 0.99355825898030958, 0.98336731566937741, 0.97798900242346853, 0.011040542991581056, 0.16928832587090953, 0.66243257949486334, 0.13616669689616634, 0.022081085983162111, 0.98932910888269587, 0.99543816447423605, 0.99420323253253751, 0.99027469717284655, 0.15449541413643933, 0.0231743121204659, 0.82655046562995038, 0.018247506337400358, 0.95799408271351882, 0.018247506337400358, 0.98676730372280508, 0.99306930576129249, 0.3380905100579687, 0.08847228300582359, 0.5529517687863974, 0.018958346358390769, 0.062421013179511958, 0.68334582849149927, 0.013141265932528833, 0.0394237977975865, 0.091988861527701832, 0.10513012746023066, 0.1840223079152335, 0.0077755904752915567, 0.57798555866333901, 0.075164041261151712, 0.0051837269835277042, 0.098490812687026377, 0.028510498409402375, 0.023326771425874668, 0.99926757665060051, 0.98811942931227026, 0.99249963355954618, 0.90050824232194537, 0.098739938851090503, 0.99061247184180745, 0.9969325465339044, 0.98888286594304586, 0.97549606575969061, 0.99028463604232941, 0.99168014009539318, 0.99168014009539318, 0.98814570094767518, 0.10109844498104903, 0.85474139847614172, 0.0413584547649746, 0.99954567155426477, 0.99454640479756229, 0.99317290319895024, 0.99141843005209074, 0.97892677461562583, 0.027627970526214237, 0.082883911578642708, 0.092093235087380793, 0.15287477024505211, 0.073674588069904637, 0.011051188210485695, 0.55992686933127522, 0.066572797751733956, 0.30750292294848541, 0.62451624557578989, 0.98890931160848161, 0.98801792560243396, 0.0060012391271240797, 0.036007434762744477, 0.064013217355990179, 0.22804708683071503, 0.58612102141578515, 0.018003717381372238, 0.062012804313615492, 0.99637967289628748, 0.022722773520816988, 0.75742578402723293, 0.037871289201361645, 0.17799505924639974, 0.003787128920136165, 0.050311152338283413, 0.13080899607953686, 0.78485397647722122, 0.033540768225522273, 0.020665566734001238, 0.084728823609405077, 0.52490539504363143, 0.20665566734001237, 0.16325797719860977, 0.20792998635920801, 0.79273307299448048, 0.99391206892388895, 0.9968995046244844, 0.97941223866238858, 0.99380809297832751, 0.25276865362735451, 0.63192163406838631, 0.11489484255788841, 0.99054378529809872, 0.99531088155756076, 0.98172125755022122, 0.99397780621500409, 0.99926757665060029, 0.99972877393059845, 0.98352778074792957, 0.98507068187099567, 0.84864010392555844, 0.14006681326926693, 0.99182908329044128, 0.99671865203126764, 0.996028675226446, 0.99834731197176019, 0.99297812088777804, 0.99924597374547197, 0.99926757665060062, 0.98546876500710145, 0.97966317471474884, 0.98687149543161601, 0.9919475453468245, 0.98710842084706663, 0.68431510069520607, 0.061511469725411778, 0.053822536009735307, 0.19222334289191181, 0.0038444668578382362, 0.99242434162110005, 0.9822406660853108, 0.98811647757989218, 0.014274263031197186, 0.7422616776222537, 0.23790438385328644, 0.99206370513152253, 0.02756457215999393, 0.13782286079996964, 0.81315487871982095, 0.013782286079996965, 0.035631018983945939, 0.93828349991057636, 0.011877006327981979, 0.99221667045878592, 0.99373818027803618, 0.98158883716683609, 0.98835092316719375, 0.99486056698477876, 0.99716634063132936, 0.027120053209250761, 0.96954190223071468, 0.99796022576796195, 0.98438681887101254, 0.97782552706901404, 0.99456529719455677, 0.99664993809237767, 0.97781289372595814, 0.014594222294417286, 0.99337001992278551, 0.98489598647462251, 0.9973088192323295, 0.99453230896255884, 0.16155201041915729, 0.18280885389536219, 0.063770530428614719, 0.56118066777180953, 0.025508212171445888, 0.99637668030260651, 0.99255805836889055, 0.003676140956921817, 0.99054020238848706, 0.027910567540050401, 0.30143412943254433, 0.059542544085440859, 0.11908508817088172, 0.21398101780705309, 0.1172243836682117, 0.01860704502670027, 0.020467749529370294, 0.12094579267355174, 0.29824758251297689, 0.03662689609808488, 0.015697241184893521, 0.052324137282978404, 0.088951033381063277, 0.50492792478074155, 0.98579823950708367, 0.99755380360039048, 0.99561515458522598, 0.95241457991203748, 0.02801219352682463, 0.099180396215280256, 0.13732670245192652, 0.75529686348559577, 0.025849268129085529, 0.9719324816536159, 0.98586970779463068, 0.99926757665060051, 0.99512055750921369, 0.99269411544321073, 0.080621792533684025, 0.66696210186956795, 0.16124358506736805, 0.076957165600334762, 0.010993880800047822, 0.52509588654372841, 0.068683428197702873, 0.30796762966066771, 0.079761400487654954, 0.017724755663923321, 0.99253937726444585, 0.24374612079279734, 0.003207185799905228, 0.73123836237839202, 0.020846707699383984, 0.0087520933626724536, 0.10794248480629359, 0.055429924630258871, 0.046677831267586421, 0.22463706297525965, 0.084603569172500392, 0.4726130415843125, 0.054175089474480673, 0.7042761631682487, 0.23640039043409747, 0.99926757665060062, 0.075475243750442803, 0.24057733945453644, 0.080192446484845484, 0.50945789531548891, 0.0943440546880535, 0.95420591758631412, 0.042097319893513861, 0.97484124366724423, 0.99168014009539318, 0.99020061051144304, 0.0060915449161378938, 0.15025810793140137, 0.20102098223255049, 0.20711252714868839, 0.052793389273195081, 0.04061029944091929, 0.34112651530372207, 0.099528124499887391, 0.047275859137446509, 0.2114972645622607, 0.084598905824904286, 0.28116695171218187, 0.11694554628736768, 0.15675679608732265, 0.98896129689256729, 0.97057644655819353, 0.013295567761071145, 0.99111813528211845, 0.99883907726902654, 0.99848171405181507, 0.99197498830164288, 0.9934126354910201, 0.99453791520743695, 0.98770572772126597, 0.98538171908553973, 0.99323405385422892, 0.99186862186145619, 0.99504270299731268, 0.99751699461538212, 0.99365159459183749, 0.99580263991044038, 0.071348960770690403, 0.8342340028573032, 0.093302487161672068, 0.9925068571654736, 0.95122242087507658, 0.037548253455595128, 0.989539569412062, 0.98188499374153781, 0.99298782589938639, 0.9953410782956631, 0.037787874938192613, 0.96359081092391163, 0.99045282066938156, 0.20792833972693392, 0.79272679520893552, 0.98625034552851065, 0.99346053058423267, 0.97436246004929128, 0.98676647564401943, 0.99339111567282212, 0.97564586811933951, 0.99143324575370884, 0.14178715115115495, 0.084022015496980712, 0.59340548444742636, 0.17329540696252274, 0.97496642081845653, 0.011889834400225081, 0.99112927833563202, 0.98577924788247173, 0.030640371831902782, 0.047353301922031577, 0.9192111549570835, 0.98589878305451184, 0.99110698439976819, 0.98312953340842812, 0.12618347053067788, 0.67583011335074927, 0.07271589827191606, 0.021387028903504725, 0.051328869368411335, 0.051328869368411335, 0.63907707929660673, 0.22869982436366862, 0.13038027370265221, 0.99589498385116704, 0.9904397036666075, 0.014590093981697406, 0.91188087385608785, 0.065655422917638318, 0.99484085877273931, 0.98656604457124686, 0.98993238587493504, 0.99572829550619824, 0.99792118938730512, 0.99926757665060062, 0.99429522922637126, 0.011554210765503359, 0.85005979203346149, 0.064373459979233008, 0.072626467668878258, 0.99926757665060062, 0.01478989616180324, 0.97983062071946458, 0.98924675276021645, 0.99323618849893791, 0.99926757665060051, 0.98097933511833446, 0.012523140448319163, 0.99652826352944113, 0.99372169188424475, 0.066131002851738105, 0.89938163878363819, 0.026452401140695244, 0.97965367879165066, 0.060687058294683564, 0.67059199415625337, 0.021240470403139249, 0.057652705379949383, 0.087996234527291162, 0.10316799910096205, 0.98986237348421402, 0.99926757665060062, 0.98572937731528121, 0.98503838374010122, 0.98786338283764497, 0.98607185471591419, 0.89851565554565938, 0.091974043481051745, 0.044100891045128029, 0.87682948077960432, 0.0544775712910405, 0.025941700614781193, 0.26641376669116013, 0.45948891221452903, 0.15715418821669558, 0.10626616536557511, 0.0089802393266683201, 0.99831497538273306, 0.98697215158964091, 0.99926757665060029, 0.97863334873609853, 0.99044795153929421, 0.98189971180295399, 0.9929280185110122, 0.98737777543975513, 0.99439775127540764, 0.9946714657585124, 0.097877606067075185, 0.89344686563791709, 0.010038728827392327, 0.98457648426297117, 0.98733722824560655, 0.96156970777098782, 0.034839482165615498, 0.97319166592079254, 0.024953632459507501, 0.98898491164187574, 0.99215841515107284, 0.9920589926490242, 0.98961870792501405, 0.83813695735231097, 0.16089236234888113, 0.99926757665060051, 0.99030823448547722, 0.99926757665060062, 0.9711803312701931, 0.99305981014776301, 0.99149452417259565, 0.99933223320260478, 0.99926757665060051, 0.99177502231528547, 0.99541934987108394, 0.99557436968027579, 0.99189201697965823, 0.99291489724019288, 0.068243999096962021, 0.92616855917305607, 0.9949269242033546, 0.98486230168659306, 0.9899009747206502, 0.52968709345453369, 0.046526569019654983, 0.4258970548722264, 0.068308757446722004, 0.81970508936066411, 0.073563277250316014, 0.031527118821564004, 0.98655019432248237, 0.14932868530608581, 0.84836006724616875, 0.98097391864179595, 0.9941821911966261, 0.99858644270758878, 0.044076460078835124, 0.90601612384272201, 0.039179075625631221, 0.0048973844532039026, 0.20792998635920812, 0.79273307299448093, 0.98898229336496368, 0.81798516444519498, 0.012300528788649548, 0.11685502349217071, 0.043051850760273416, 0.29778681021034886, 0.6872003312546513, 0.38033911216343336, 0.051650990540713169, 0.5024232716233008, 0.056346535135323457, 0.030751660279808395, 0.030751660279808395, 0.92254980839425182, 0.99506322454346918, 0.99722148290217227, 0.9893035320948651, 0.99572280381191469, 0.049177205165526476, 0.11240504037834623, 0.82898717279030343, 0.014050630047293278, 0.089999497313719271, 0.89999497313719268, 0.019229349168275518, 0.96146745841377601, 0.93256685846750409, 0.051809269914861338, 0.054023531126291588, 0.3164235394539936, 0.027011765563145794, 0.22574118363486129, 0.0096470591296949262, 0.36658824692840725, 0.97658040005123581, 0.95029937665511033, 0.039268569283269023, 0.99548464975725104, 0.99556606917524937, 0.99254997228009623, 0.97965367879165066, 0.99457254190314537, 0.9937570428141409, 0.084855511905432404, 0.084855511905432404, 0.2724308540121777, 0.053592954887641521, 0.10271983020131291, 0.080389432331462285, 0.01339823872191038, 0.30369341102996861, 0.99629894408290975, 0.94916584053004727, 0.044930927362369102, 0.98378604176246287, 0.015488308256369702, 0.98092618957008115, 0.98673221992959415, 0.96638632503363442, 0.028147174515542751, 0.9885155016473941, 0.072155697370263186, 0.91998514147085553, 0.99466801887146983, 0.99926757665060051, 0.99926757665060062, 0.016097619860258022, 0.97658893818898673, 0.99092794704589049, 0.11916237221172597, 0.86988531714559958, 0.031061366654087076, 0.65672603782926964, 0.017749352373764044, 0.21742956657860954, 0.079872085681938196, 0.98928413586880504, 0.072973213204954937, 0.92238141491063041, 0.9963663232831319, 0.053925650369530835, 0.82359175109828908, 0.11765596444261273, 0.99268059590324897, 0.01800576548801178, 0.0060019218293372598, 0.054017296464035337, 0.91829403988860081, 0.021073052353088439, 0.95882388206552405, 0.010536526176544219, 0.066288471457956716, 0.78943543281748452, 0.14462939227190558, 0.92280435833755003, 0.048568650438818424, 0.027753514536467672, 0.13448584750936626, 0.039847658521293704, 0.02988574389097028, 0.67242923754683126, 0.10460010361839597, 0.01494287194548514, 0.99456761106546177, 0.99445968976677668, 0.015307074016104479, 0.026787379528182838, 0.95669212600652997, 0.9962619919434107, 0.99059373658427152, 0.99397844287974257, 0.99086733834484531, 0.0064974907432448874, 0.99151419247177108, 0.99256359966924357, 0.9966953177154978, 0.99516769968792307, 0.99223433539026984, 0.95205715434766858, 0.043275325197621298, 0.99191931975995773, 0.29448855337828655, 0.7016826024939421, 0.62955010075396023, 0.25575472843129637, 0.11017126763194304, 0.073264098257458235, 0.90847481839248212, 0.13191089357736807, 0.12458251060084763, 0.74016668062856528, 0.01836351685348037, 0.080799474155313619, 0.61334146290624436, 0.01836351685348037, 0.26810734606081338, 0.9765804000512357, 0.008375466641512265, 0.21357439935856276, 0.70353919788703023, 0.025126399924536795, 0.020938666603780662, 0.025126399924536795, 0.27902099179540246, 0.21205595376450587, 0.50223778523172447, 0.99106737488969499, 0.98959288364720732, 0.98360400722124453, 0.006170964389061089, 0.98735430224977427, 0.01388123841111966, 0.2498622914001539, 0.70794315896710269, 0.018508317881492882, 0.05537139104214258, 0.9413136477164239, 0.0242758432641146, 0.08901142530175353, 0.88202230526283043, 0.99437648517136779, 0.35411909515349166, 0.63880307361022026, 0.097876520129306255, 0.20662820916186875, 0.62532221193723436, 0.065251013419537499, 0.99012878717006125, 0.041774057652438683, 0.66540106117813047, 0.23572503961018973, 0.029838612608884773, 0.029838612608884773, 0.99573951651420045, 0.99851354218739719, 0.9851051498121377, 0.99088544477509288, 0.99346995149853912, 0.97657547899984742, 0.0093901488365369951, 0.97888132441708531, 0.99625546927171071, 0.0035141286394063873, 0.99503654441864431, 0.98954785132952405, 0.99677953349546322, 0.98820792236834376, 0.99707352631604884, 0.96687266697239826, 0.01841662222804568, 0.0055371366937911051, 0.058139935284806599, 0.091362755447553234, 0.70321636011147026, 0.091362755447553234, 0.049834230244119947, 0.038632469033308067, 0.9464954913160476, 0.98935606337303961, 0.99395354344917985, 0.98656560464637522, 0.78313754950219594, 0.19910276682259218, 0.013273517788172812, 0.011495406205640846, 0.96561412127383117, 0.019159010342734744, 0.12145041650461653, 0.8588279452826455, 0.0086750297503297522, 0.9895912927352547, 0.99436739314944156, 0.0074903574585387959, 0.83463983109432305, 0.012840612786066508, 0.013910663851572049, 0.13054622999167617, 0.98971296496483541, 0.98988013277100317, 0.20542752346592125, 0.7831924332138247, 0.99121950642332413, 0.29430958377169308, 0.70347168803965665, 0.98317977110358368, 0.98904712432228681, 0.99196007589482726, 0.97353499495527041, 0.98679073896925928, 0.98888286594304586, 0.99592390277644283, 0.98621560340848169, 0.20609798091041415, 0.79268454196313132, 0.99508008621682231, 0.98032746934885817, 0.7526299196326699, 0.012139192252139837, 0.21243586441244716, 0.022255185795589702, 0.98888286594304586, 0.62192832541256793, 0.37525633136707687, 0.027524473701497146, 0.67964277370619874, 0.29006560746962373, 0.98651743462724051, 0.99029900723135911, 0.46962230413374906, 0.083138876808367054, 0.17526574029871975, 0.042692936739431732, 0.092126863490352678, 0.1348198002297844, 0.98888286594304586, 0.028019217899115746, 0.30260755331045008, 0.059774331518113594, 0.11768071517628613, 0.21107810817333861, 0.11768071517628613, 0.018679478599410496, 0.020547426459351547, 0.12141661089616823, 0.060562639594799128, 0.92358025382068676, 0.66591685698860925, 0.22464665055037419, 0.10831177794393042, 0.98492420060659536, 0.11878178167393962, 0.87106639894222382, 0.0065989878707744228, 0.99104766940155109, 0.95627074384280941, 0.033850291817444582, 0.9953204806688124, 0.77608204487059052, 0.051396161911959636, 0.16960733430946681, 0.99547085770276489, 0.98032750130745516, 0.99463373876355921, 0.99477645058959041, 0.99185615390459281, 0.99249398989840931, 0.99750753349096866, 0.98462026337476072, 0.98620037391119442, 0.98770348220327076, 0.99033682050494121, 0.028368963311959376, 0.96454475260661887, 0.044248925740748554, 0.66775651572402361, 0.16492781412460825, 0.12067888838385969, 0.98611990470122968, 0.99324078584946285, 0.99268753605218352, 0.017455806922959671, 0.6109532423035885, 0.3665719453821531, 0.42955532579568523, 0.011822623645752805, 0.011822623645752805, 0.0039408745485842679, 0.53989981315604474, 0.13539367021686258, 0.12997792340818806, 0.0054157468086745023, 0.097483442556141053, 0.62281088299756782, 0.99596829606722448, 0.99545172859215658, 0.027920728336422469, 0.080970112175625164, 0.66730540724049703, 0.089346330676551899, 0.033504874003706962, 0.097722549177478635, 0.99168014009539318, 0.010307715856419247, 0.0034359052854730822, 0.09964125327871938, 0.62533476195610094, 0.013743621141892329, 0.24738518055406192, 0.99437648517136779, 0.97810047454405646, 0.025811655012645117, 0.78467431238441154, 0.12905827506322559, 0.056785641027819259, 0.98360400722124453], \"Term\": [\"05132015 STATE\", \"07312015 UNCLASSIFIED\", \"07312015 UNCLASSIFIED\", \"07312015 UNCLASSIFIED\", \"07312015 UNCLASSIFIED\", \"07312015 UNCLASSIFIED\", \"07312015 UNCLASSIFIED\", \"07312015 UNCLASSIFIED\", \"08272015 Class\", \"08312015 B5\", \"10 2010\", \"10 2010\", \"10 2010\", \"10 2010\", \"11 2010\", \"12 2010\", \"12 2010\", \"12 2010\", \"12 2010\", \"12 2010\", \"12 April\", \"14 2010\", \"14 2010\", \"14 2010\", \"14 2010\", \"14B 14D\", \"14D B1\", \"14D Declassify\", \"15 2010\", \"15 2010\", \"15 2010\", \"15 2012\", \"16 2010\", \"17 2010\", \"17 2010\", \"17 2010\", \"19 2010\", \"19 2010\", \"19 2010\", \"202 647\", \"2026471512 UNCLASSIFIED\", \"21 2010\", \"21 2010\", \"21 2010\", \"21 2010\", \"22 2009\", \"22 2009\", \"22 2009\", \"22 2009\", \"2201 St\", \"23 2009\", \"23 2009\", \"23 2009\", \"23 2009\", \"23 2010\", \"23 2010\", \"23 2010\", \"23 2010\", \"24 2009\", \"24 2009\", \"24 2009\", \"24 2010\", \"24 2010\", \"24 2010\", \"24 2010\", \"24 2010\", \"24 2010\", \"24 2010\", \"25 2010\", \"25 2010\", \"25 2010\", \"25 2010\", \"26 2010\", \"26 2010\", \"26 2010\", \"26 2010\", \"26 2010\", \"30 2010\", \"30 2010\", \"30 2010\", \"30 2010\", \"30 2010\", \"50 Broadway\", \"AGIS DoS\", \"AGREEMENT ON\", \"ARRIVE State\", \"Abedin Cc\", \"Abedin Humaclintonemailcom\", \"Abedin Humaclintonemailcom\", \"Abedin Sent\", \"Abedin Sent\", \"Abedin Subject\", \"Abedin Subject\", \"Abedin Subject\", \"AbedinH stategov\", \"AbedinH stategov\", \"Abu Mazen\", \"Affairs Department\", \"Affairs Department\", \"Afghan women\", \"American Jewish\", \"AnneMarie Sent\", \"AnneMarie SlaughterAstategov\", \"Any foreign\", \"April 24\", \"Assistant Secretary\", \"Assistant Secretary\", \"Assistant Secretary\", \"Assistant Secretary\", \"Assistant Secretary\", \"Aug 07\", \"Aug 26\", \"Aug 30\", \"August 25\", \"August 26\", \"August 26\", \"August 26\", \"August 28\", \"August 28\", \"August 28\", \"August 30\", \"B1 14B\", \"B5 UNCLASSIFIED\", \"B5 UNCLASSIFIED\", \"B5 UNCLASSIFIED\", \"B5 UNCLASSIFIED\", \"B5B6 From\", \"B5B6 From\", \"B5B6 From\", \"B5B6 From\", \"B5B6 From\", \"B5B6 From\", \"B6 UNCLASSIFIED\", \"B6 UNCLASSIFIED\", \"B6 UNCLASSIFIED\", \"B6 UNCLASSIFIED\", \"B6 UNCLASSIFIED\", \"B6 UNCLASSIFIED\", \"B6 UNCLASSIFIED\", \"B6 UNCLASSIFIED\", \"BENGHAZI COMM\", \"BUT UNCLASSIFIED\", \"Balderston Kris\", \"Barack Obama\", \"Barack Obama\", \"Benjamin Netanyahu\", \"Bill Clinton\", \"Billions aid\", \"BlackBerry ATT\", \"Bond Michele\", \"Brava Issue\", \"Bravo Brava\", \"Broadway London\", \"Burns William\", \"Burns William\", \"Burns William\", \"COMM SUBJECT\", \"CONFIDENTIAL Reason\", \"Call Sheet\", \"Call list\", \"Campbell Kurt\", \"Cc Abedin\", \"Cc Abedin\", \"Cc Abedin\", \"Cc Abedin\", \"Cc Abedin\", \"Cc Abedin\", \"Cc Abedin\", \"Cc Huma\", \"Cc Huma\", \"Cc Huma\", \"Cc SES00S\", \"Cc SESOShiftII\", \"Cc Sullivan\", \"Cc Sullivan\", \"Cc Sullivan\", \"Cc Sullivan\", \"Cc Sullivan\", \"Cc Sullivan\", \"Cc Sullivan\", \"Cherie Blair\", \"Cheryl Cc\", \"Cheryl Cc\", \"Cheryl Cc\", \"Cheryl Cc\", \"Cheryl Cc\", \"Cheryl Mills\", \"Cheryl Mills\", \"Cheryl Mills\", \"Cheryl Mills\", \"Cheryl Sent\", \"Cheryl Sent\", \"Cheryl Sent\", \"Cheryl Sent\", \"Cheryl Sent\", \"Cingular Xpress\", \"Cingular Xpress\", \"Class CONFIDENTIAL\", \"Classified DAS\", \"Cold War\", \"Conference Room\", \"Crowley Philip\", \"Crowley Philip\", \"Crowley Philip\", \"Curtis Meghann\", \"DAS AGIS\", \"DC 20520\", \"DEPART State\", \"DEPT PRODUCED\", \"Date 05132015\", \"Dec 12\", \"Dec 23\", \"December 2010\", \"December 2010\", \"December 22\", \"Department En\", \"DoS 08272015\", \"En route\", \"Evergreen To\", \"F201504841 Doc\", \"FOIA WAIVER\", \"FY 2010\", \"Feb 05\", \"Feb 06\", \"Feb 10\", \"February 10\", \"February 2010\", \"February 2010\", \"February 2010\", \"February 2010\", \"February 2010\", \"Feltman Jeffrey\", \"Financial Times\", \"Food Security\", \"Fri Aug\", \"Fri Aug\", \"Fri Aug\", \"Fri Feb\", \"Friday January\", \"Friday January\", \"Friday January\", \"Friday January\", \"Friday March\", \"Friday March\", \"Friday March\", \"Friends Haiti\", \"From Balderston\", \"From Evergreen\", \"From Feltman\", \"From Gordon\", \"From Hanley\", \"From Huma\", \"From Huma\", \"From Jiloty\", \"From Koh\", \"From Lissa\", \"From McHale\", \"From Muscatine\", \"From PIR\", \"From PIR\", \"From Reines\", \"From Rodriguez\", \"From Slaughter\", \"From Strobe\", \"From To\", \"From To\", \"From To\", \"From To\", \"From To\", \"From Valmoro\", \"From Verma\", \"From Verma\", \"From Verveer\", \"From mailtoHDR22clintonemailcom\", \"From mailtoHDR22clintonemailcom\", \"From mailtoHDR22clintonemailcom\", \"From mailtoHDR22clintonemailcom\", \"From mailtoHDR22clintonemailcom\", \"From mailtoHDR22clintonemailcom\", \"From mailtoHDR22clintonemailcom\", \"From mailtoHDR22clintonemailcom\", \"From mailtoHDR22clintonemailcom\", \"From sbwhoeop\", \"From sbwhoeop\", \"From sbwhoeop\", \"From sbwhoeop\", \"From sbwhoeop\", \"From sbwhoeop\", \"Fuchs Michael\", \"Fw AP\", \"Fw Reuters\", \"General Assembly\", \"General Assembly\", \"Gordon Brown\", \"Gordon Brown\", \"Gordon Brown\", \"Gordon Philip\", \"Gordon Philip\", \"Grameen Bank\", \"HOUSE SELECT\", \"Hanley Monica\", \"Harold Hongju\", \"He said\", \"He said\", \"He said\", \"He said\", \"He said\", \"Hillary Clinton\", \"Hillary Clinton\", \"Hillary Clinton\", \"Hillary Clinton\", \"Hillary Clinton\", \"Huma AbedinH\", \"Huma Sent\", \"Huma Sent\", \"Huma Sent\", \"Huma Sent\", \"Huma Subject\", \"Huma Subject\", \"Huma Subject\", \"Huma Subject\", \"Huma Subject\", \"Huma Subject\", \"Huma Subject\", \"Human Rights\", \"Human Rights\", \"Human Rights\", \"INFORMATION REDACTIONS\", \"Id like\", \"Id like\", \"Id like\", \"Id like\", \"Id like\", \"In opinion\", \"In opinion\", \"Internet freedom\", \"Issue statement\", \"Jacob Kaidanow\", \"Jacob Sent\", \"Jacob Sent\", \"Jacob Sent\", \"Jacob Sent\", \"Jacob Sent\", \"Jacob Sent\", \"Jacob Sent\", \"Jacob Subject\", \"Jacob Subject\", \"Jacob Subject\", \"Jacob Subject\", \"Jacob Subject\", \"Jacob Subject\", \"Jacob Subject\", \"January 15\", \"January 22\", \"January 22\", \"January 24\", \"Jiloty Lauren\", \"JilotyLCstategov Sent\", \"JilotyLCstategov To\", \"John Boehner\", \"Judith McHaleJAstategov\", \"July 14\", \"Jun 12\", \"Kaidanow Tina\", \"Klevorick Caitlin\", \"Koh Harold\", \"Lauren JilotyLCstategov\", \"Lauren Sent\", \"Lauren Subject\", \"Lew Jacob\", \"Lew Jacob\", \"Lew Jacob\", \"Lissa MuscatineLstategov\", \"Lona Huma\", \"Lona Huma\", \"Lona Sent\", \"Lona Subject\", \"Lona Valmoro\", \"Lona ValmoroUstategov\", \"London SW1H\", \"London SW1H\", \"Macmanus Joseph\", \"Mail Blackberry\", \"Mail Blackberry\", \"Mar 21\", \"March 21\", \"Mark Hyman\", \"Martin McGuinness\", \"Mashabane update\", \"Max Blumenthal\", \"May 13\", \"May 2010\", \"May 2010\", \"May 2010\", \"May 2010\", \"May 27\", \"May 27\", \"May 31\", \"McEldowney Nancy\", \"McHale Judith\", \"McHale Judith\", \"McHale Judith\", \"Melanne Sent\", \"Melanne VerveerMSstategov\", \"Merten Kenneth\", \"Middle East\", \"Middle East\", \"Middle East\", \"Middle East\", \"Middle East\", \"Middle East\", \"MillsCDstategov To\", \"MillsCDstategov To\", \"MillsCDstategov To\", \"Mini Schedule\", \"Mon Feb\", \"Monday December\", \"Monday December\", \"Monday December\", \"Mr Obama\", \"Mr Obamas\", \"Mubarak Call\", \"Muscatine Lissa\", \"NEWSMahogany Cc\", \"NO FOIA\", \"National Transitional\", \"New York\", \"New York\", \"New York\", \"New York\", \"No F201504841\", \"Northern Ireland\", \"Northern Ireland\", \"November 28\", \"OFFICE TIME\", \"ON SENSITIVE\", \"Obama administration\", \"Obama administration\", \"October 2010\", \"Office Tony\", \"Operations Center\", \"Operations Center\", \"Operations Center\", \"Out Office\", \"PART B5B6\", \"PART B5B6\", \"PART B5B6\", \"PART B5B6\", \"PART B5B6\", \"PART B5B6\", \"PIR preines\", \"PRODUCED TO\", \"Palestinian state\", \"Peter Robinson\", \"Philip To\", \"Philippe reinespstategov\", \"President Barack\", \"President Barack\", \"President Obama\", \"President Obama\", \"President Obama\", \"President Obama\", \"Prime Minister\", \"Prime Minister\", \"Prime Minister\", \"Prime Minister\", \"Prime Minister\", \"Private Residence\", \"Public Diplomacy\", \"REDACTIONS NO\", \"Re Bravo\", \"Re Call\", \"Re Info\", \"Re Mashabane\", \"Re Schedule\", \"Re TurkeyArmenia\", \"Reason 14B\", \"Reines Philippe\", \"Reines Philippe\", \"Reines Philippe\", \"Republican Party\", \"Reynoso Julissa\", \"Richard Sent\", \"Richard Sent\", \"Richard VermaRRstategov\", \"Richard VermaRRstategov\", \"Rodriguez Miguel\", \"Rooney Megan\", \"Russo Robert\", \"SBU This\", \"SECRETARY CLINTON\", \"SECRETARY CLINTON\", \"SELECT BENGHAZI\", \"SENSITIVE BUT\", \"SENSITIVE INFORMATION\", \"SESOShiftI Sent\", \"SESOShiftII Sent\", \"STAFF MEETING\", \"STATE DEPT\", \"SUBJECT TO\", \"SW1H OBL\", \"Sat Dec\", \"Sat Feb\", \"Sat Jun\", \"Sat Sep\", \"Saturday December\", \"Saturday December\", \"Saturday February\", \"Saturday June\", \"Saturday May\", \"Saturday September\", \"Saturday September\", \"Saturday September\", \"Saudi Arabia\", \"Saudi Arabia\", \"Saudi Arabia\", \"Saudi Arabia\", \"Scanlon Amy\", \"Secretary Clinton\", \"Secretary Clinton\", \"Secretary Clintons\", \"Secretarys Conference\", \"Secretarys Office\", \"Security Council\", \"Security Council\", \"Security Council\", \"Security Council\", \"Sent Cingular\", \"Sent Cingular\", \"Sep 01\", \"September 15\", \"September 15\", \"September 15\", \"September 15\", \"Shannon Thomas\", \"Shannon Thomas\", \"Sid Re\", \"Sid Re\", \"Sid Re\", \"Sid Re\", \"Sid UNCLASSIFIED\", \"Sid UNCLASSIFIED\", \"Sid UNCLASSIFIED\", \"Sinn Fein\", \"Slaughter AnneMarie\", \"SlaughterAstategov Sent\", \"Source Comment\", \"Special Assistant\", \"Special Assistant\", \"Special Assistant\", \"Special Assistant\", \"Sri Lanka\", \"Sri Lanka\", \"St NW\", \"St NW\", \"State 2201\", \"State 2201\", \"State Department\", \"State Department\", \"State Department\", \"State Department\", \"State Department\", \"State Department\", \"Stern Todd\", \"Street NW\", \"Street NW\", \"Strobe Talbott\", \"Subject AP\", \"Subject Call\", \"Subject Out\", \"Subject Reuters\", \"Subject Schedule\", \"Sullivan Jacobi\", \"Sullivan Jacobi\", \"Sullivan Jacobi\", \"Sullivan Jacobi\", \"Sullivan Jacobi\", \"Sullivan Jacobi\", \"Sullivan Jacobi\", \"Sullivan Jacobi\", \"Sun Aug\", \"Sun Jan\", \"Sun Jan\", \"Sun Mar\", \"Sunday August\", \"Sunday August\", \"Sunday February\", \"Sunday January\", \"Sunday January\", \"Sunday March\", \"Sunday May\", \"Sunday May\", \"Supreme Court\", \"TO AGREEMENT\", \"TO HOUSE\", \"Tea Party\", \"Tea Party\", \"The New\", \"The Office\", \"The Office\", \"The United\", \"The United\", \"The United\", \"The United\", \"The United\", \"The deal\", \"This email\", \"This email\", \"Thu Aug\", \"Thu Dec\", \"Thu Dec\", \"Thu Dec\", \"Thu Jan\", \"Thursday August\", \"Thursday August\", \"Thursday August\", \"Thursday August\", \"Thursday February\", \"Thursday February\", \"Thursday February\", \"Thursday January\", \"Thursday January\", \"Thursday January\", \"Thursday May\", \"Thursday May\", \"Thursday May\", \"Thursday September\", \"Thursday September\", \"Thursday September\", \"Thursday September\", \"Thursday September\", \"Thursday September\", \"Tina Scanlon\", \"To Cheryl\", \"To Huma\", \"To Huma\", \"To Huma\", \"To Jiloty\", \"To McHale\", \"To Muscatine\", \"To NEWSMahogany\", \"To NEWSMahogany\", \"To PIR\", \"To Reines\", \"To Slaughter\", \"To Valmoro\", \"To ValmoroUstategov\", \"To Verma\", \"To Verma\", \"To Verveer\", \"To abedinhstategov\", \"To abedinhstategov\", \"To millscdstategov\", \"To millscdstategov\", \"To millscdstategov\", \"To preines\", \"To preines\", \"To sbwhoeop\", \"To sbwhoeop\", \"To sbwhoeop\", \"To sullivanjjstategov\", \"To sullivanjjstategov\", \"To sullivanjjstategov\", \"To sullivanjjstategov\", \"To sullivanjjstategov\", \"Todd SSECC\", \"Toiv Nora\", \"Toiv Nora\", \"Toiv Nora\", \"Toiv Nora\", \"Toiv Nora\", \"Toiv Nora\", \"Tony Blair\", \"Tony Blair\", \"Tony Blair\", \"Transitional Council\", \"Treaty Room\", \"Trying youcall\", \"Tue Sep\", \"Tue Sep\", \"Tuesday December\", \"Tuesday December\", \"Tuesday December\", \"Tuesday December\", \"Tuesday January\", \"Tuesday January\", \"Tuesday July\", \"Tuesday July\", \"Tuesday July\", \"TurkeyArmenia text\", \"UNCLASSIFIED UNCLASSIFIED\", \"UNCLASSIFIED UNCLASSIFIED\", \"US Embassy\", \"US Embassy\", \"US Embassy\", \"US Embassy\", \"US policy\", \"United Nations\", \"United Nations\", \"United Nations\", \"United Nations\", \"United Nations\", \"Valenzuela Arturo\", \"Valmoro Lona\", \"Valmoro Special\", \"ValmoroUstategov Huma\", \"ValmoroUstategov Sent\", \"ValmoroUstategov Subject\", \"ValmoroUstategov Subject\", \"ValmoroUstategov To\", \"Verma Richard\", \"Verma Richard\", \"VermaRRstategov Sent\", \"VermaRRstategov To\", \"Verveer Melanne\", \"VerveerMSstategov Sent\", \"WAIVER RELEASE\", \"Wall Street\", \"Wall Street\", \"Washington DC\", \"Washington DC\", \"Washington DC\", \"Washington DC\", \"Washington DC\", \"Washington DC\", \"Watch Officer\", \"Watch Officer\", \"Web site\", \"Wed Dec\", \"Wed Feb\", \"Wednesday August\", \"Wednesday August\", \"Wednesday August\", \"Wednesday December\", \"Wednesday December\", \"Wednesday December\", \"Wednesday February\", \"Wednesday February\", \"Wednesday February\", \"Wednesday January\", \"West Bank\", \"White House\", \"White House\", \"White House\", \"White House\", \"White House\", \"Windrush Ventures\", \"Wireless BlackBerry\", \"Xpress Mail\", \"Xpress Mail\", \"York Times\", \"abedinhstategov Subject\", \"abedinhstategov Subject\", \"aid dollars\", \"care reform\", \"chief staff\", \"dinner evening\", \"diplomacy development\", \"dollars buy\", \"email UNCLASSIFIED\", \"email attachments\", \"food security\", \"food security\", \"foreign assistance\", \"foreign nation\", \"foreign policy\", \"foreign policy\", \"foreign policy\", \"foreign policy\", \"goodwill Pakistan\", \"health care\", \"health care\", \"human rights\", \"human rights\", \"human rights\", \"intended recipient\", \"justice powers\", \"let know\", \"let know\", \"let know\", \"let know\", \"let know\", \"let know\", \"little goodwill\", \"mailtoHDR22clintonemailcom Sent\", \"mailtoHDR22clintonemailcom Sent\", \"mailtoHDR22clintonemailcom Sent\", \"mailtoHDR22clintonemailcom Sent\", \"mailtoHDR22clintonemailcom Sent\", \"mailtoHDR22clintonemailcom Sent\", \"mailtoHDR22clintonemailcom Sent\", \"mailtoHDR22clintonemailcom Sent\", \"mailtoHDR22clintonemailcom Sent\", \"million dollars\", \"million dollars\", \"millscdstategov Subject\", \"millscdstategov Subject\", \"millscdstategov Subject\", \"nation leader\", \"national security\", \"national security\", \"national security\", \"nuclear weapons\", \"official said\", \"official said\", \"officials said\", \"peace process\", \"peace process\", \"peace process\", \"peace talks\", \"person US\", \"pm ARRIVE\", \"pm DEPART\", \"pm MEETING\", \"pm OFFICE\", \"pm Secretarys\", \"policing justice\", \"policing powers\", \"powers devolved\", \"powersharing government\", \"preines Sent\", \"preines Sent\", \"prime minister\", \"prime minister\", \"prime minister\", \"prime minister\", \"public affairs\", \"public diplomacy\", \"route State\", \"said The\", \"said The\", \"said The\", \"sbwhoeop Sent\", \"sbwhoeop Sent\", \"sbwhoeop Sent\", \"sbwhoeop Sent\", \"sbwhoeop Sent\", \"sbwhoeop To\", \"sbwhoeop To\", \"sbwhoeop To\", \"sbwhoeop To\", \"sbwhoeop To\", \"secretary state\", \"sensitive source\", \"stategov Sent\", \"stategov Sent\", \"stategov Sent\", \"stategov Sent\", \"stategov Sent\", \"stategov Sent\", \"statement Sid\", \"sullivanjjstategov Subject\", \"sullivanjjstategov Subject\", \"sullivanjjstategov Subject\", \"sullivanjjstategov Subject\", \"sullivanjjstategov Subject\", \"sullivanjjstategov Subject\", \"text Davutoglu\", \"think tank\", \"years ago\", \"years ago\", \"years ago\", \"years ago\", \"youcall ops\"]}, \"mdsDat\": {\"y\": [0.35280119723877595, 0.15788178467380973, -0.066802049496912069, 0.053511791989737524, -0.071047665923128681, -0.13374253156659432, -0.063556405168469193, -0.14975827733802347, -0.037802584305047175, -0.041485260104148797], \"cluster\": [1, 1, 1, 1, 1, 1, 1, 1, 1, 1], \"Freq\": [16.525104385555007, 15.850650990530072, 13.356820428550192, 10.747067527184447, 9.5918890386859186, 9.0608618059105535, 6.5598331021699288, 6.4610184035688771, 6.0053952205535186, 5.8413590972914822], \"topics\": [1, 2, 3, 4, 5, 6, 7, 8, 9, 10], \"x\": [0.12537503237104353, -0.014115920444866523, -0.17530063240815003, -0.12373322548887698, -0.16686854691223721, 0.076781452702777531, -0.0048236187366043843, 0.34212139845176737, -0.058794376698583554, -0.00064156283626967139]}, \"R\": 30, \"lambda.step\": 0.01, \"tinfo\": {\"Category\": [\"Default\", \"Default\", \"Default\", \"Default\", \"Default\", \"Default\", \"Default\", \"Default\", \"Default\", \"Default\", \"Default\", \"Default\", \"Default\", \"Default\", \"Default\", \"Default\", \"Default\", \"Default\", \"Default\", \"Default\", \"Default\", \"Default\", \"Default\", \"Default\", \"Default\", \"Default\", \"Default\", \"Default\", \"Default\", \"Default\", \"Topic1\", \"Topic1\", \"Topic1\", \"Topic1\", \"Topic1\", \"Topic1\", \"Topic1\", \"Topic1\", \"Topic1\", \"Topic1\", \"Topic1\", \"Topic1\", \"Topic1\", \"Topic1\", \"Topic1\", \"Topic1\", \"Topic1\", \"Topic1\", \"Topic1\", \"Topic1\", \"Topic1\", \"Topic1\", \"Topic1\", \"Topic1\", \"Topic1\", \"Topic1\", \"Topic1\", \"Topic1\", \"Topic1\", \"Topic1\", \"Topic1\", \"Topic1\", \"Topic1\", \"Topic1\", \"Topic1\", \"Topic2\", \"Topic2\", \"Topic2\", \"Topic2\", \"Topic2\", \"Topic2\", \"Topic2\", \"Topic2\", \"Topic2\", \"Topic2\", \"Topic2\", \"Topic2\", \"Topic2\", \"Topic2\", \"Topic2\", \"Topic2\", \"Topic2\", \"Topic2\", \"Topic2\", \"Topic2\", \"Topic2\", \"Topic2\", \"Topic2\", \"Topic2\", \"Topic2\", \"Topic2\", \"Topic2\", \"Topic2\", \"Topic2\", \"Topic2\", \"Topic2\", \"Topic2\", \"Topic2\", \"Topic2\", \"Topic2\", \"Topic2\", \"Topic2\", \"Topic2\", \"Topic2\", \"Topic2\", \"Topic2\", \"Topic2\", \"Topic2\", \"Topic2\", \"Topic2\", \"Topic2\", \"Topic2\", \"Topic2\", \"Topic2\", \"Topic2\", \"Topic2\", \"Topic2\", \"Topic2\", \"Topic2\", \"Topic2\", \"Topic2\", \"Topic3\", \"Topic3\", \"Topic3\", \"Topic3\", \"Topic3\", \"Topic3\", \"Topic3\", \"Topic3\", \"Topic3\", \"Topic3\", \"Topic3\", \"Topic3\", \"Topic3\", \"Topic3\", \"Topic3\", \"Topic3\", \"Topic3\", \"Topic3\", \"Topic3\", \"Topic3\", \"Topic3\", \"Topic3\", \"Topic3\", \"Topic3\", \"Topic3\", \"Topic3\", \"Topic3\", \"Topic3\", \"Topic3\", \"Topic3\", \"Topic3\", \"Topic3\", \"Topic3\", \"Topic3\", \"Topic3\", \"Topic3\", \"Topic3\", \"Topic3\", \"Topic3\", \"Topic3\", \"Topic3\", \"Topic3\", \"Topic3\", \"Topic3\", \"Topic3\", \"Topic3\", \"Topic3\", \"Topic3\", \"Topic3\", \"Topic3\", \"Topic3\", \"Topic3\", \"Topic3\", \"Topic3\", \"Topic3\", \"Topic3\", \"Topic3\", \"Topic3\", \"Topic4\", \"Topic4\", \"Topic4\", \"Topic4\", \"Topic4\", \"Topic4\", \"Topic4\", \"Topic4\", \"Topic4\", \"Topic4\", \"Topic4\", \"Topic4\", \"Topic4\", \"Topic4\", \"Topic4\", \"Topic4\", \"Topic4\", \"Topic4\", \"Topic4\", \"Topic4\", \"Topic4\", \"Topic4\", \"Topic4\", \"Topic4\", \"Topic4\", \"Topic4\", \"Topic4\", \"Topic4\", \"Topic4\", \"Topic4\", \"Topic4\", \"Topic4\", \"Topic4\", \"Topic4\", \"Topic4\", \"Topic4\", \"Topic4\", \"Topic4\", \"Topic4\", \"Topic4\", \"Topic4\", \"Topic4\", \"Topic4\", \"Topic4\", \"Topic4\", \"Topic4\", \"Topic4\", \"Topic4\", \"Topic4\", \"Topic4\", \"Topic4\", \"Topic4\", \"Topic5\", \"Topic5\", \"Topic5\", \"Topic5\", \"Topic5\", \"Topic5\", \"Topic5\", \"Topic5\", \"Topic5\", \"Topic5\", \"Topic5\", \"Topic5\", \"Topic5\", \"Topic5\", \"Topic5\", \"Topic5\", \"Topic5\", \"Topic5\", \"Topic5\", \"Topic5\", \"Topic5\", \"Topic5\", \"Topic5\", \"Topic5\", \"Topic5\", \"Topic5\", \"Topic5\", \"Topic5\", \"Topic5\", \"Topic5\", \"Topic5\", \"Topic5\", \"Topic5\", \"Topic5\", \"Topic5\", \"Topic5\", \"Topic5\", \"Topic5\", \"Topic5\", \"Topic5\", \"Topic5\", \"Topic5\", \"Topic5\", \"Topic5\", \"Topic5\", \"Topic5\", \"Topic5\", \"Topic5\", \"Topic5\", \"Topic5\", \"Topic6\", \"Topic6\", \"Topic6\", \"Topic6\", \"Topic6\", \"Topic6\", \"Topic6\", \"Topic6\", \"Topic6\", \"Topic6\", \"Topic6\", \"Topic6\", \"Topic6\", \"Topic6\", \"Topic6\", \"Topic6\", \"Topic6\", \"Topic6\", \"Topic6\", \"Topic6\", \"Topic6\", \"Topic6\", \"Topic6\", \"Topic6\", \"Topic6\", \"Topic6\", \"Topic6\", \"Topic6\", \"Topic6\", \"Topic6\", \"Topic6\", \"Topic6\", \"Topic6\", \"Topic6\", \"Topic6\", \"Topic6\", \"Topic6\", \"Topic6\", \"Topic7\", \"Topic7\", \"Topic7\", \"Topic7\", \"Topic7\", \"Topic7\", \"Topic7\", \"Topic7\", \"Topic7\", \"Topic7\", \"Topic7\", \"Topic7\", \"Topic7\", \"Topic7\", \"Topic7\", \"Topic7\", \"Topic7\", \"Topic7\", \"Topic7\", \"Topic7\", \"Topic7\", \"Topic7\", \"Topic7\", \"Topic7\", \"Topic7\", \"Topic7\", \"Topic7\", \"Topic7\", \"Topic7\", \"Topic7\", \"Topic7\", \"Topic7\", \"Topic7\", \"Topic7\", \"Topic7\", \"Topic7\", \"Topic7\", \"Topic7\", \"Topic7\", \"Topic7\", \"Topic7\", \"Topic7\", \"Topic7\", \"Topic7\", \"Topic7\", \"Topic7\", \"Topic7\", \"Topic7\", \"Topic7\", \"Topic7\", \"Topic7\", \"Topic7\", \"Topic7\", \"Topic7\", \"Topic8\", \"Topic8\", \"Topic8\", \"Topic8\", \"Topic8\", \"Topic8\", \"Topic8\", \"Topic8\", \"Topic8\", \"Topic8\", \"Topic8\", \"Topic8\", \"Topic8\", \"Topic8\", \"Topic8\", \"Topic8\", \"Topic8\", \"Topic8\", \"Topic8\", \"Topic8\", \"Topic8\", \"Topic8\", \"Topic8\", \"Topic8\", \"Topic8\", \"Topic8\", \"Topic8\", \"Topic8\", \"Topic8\", \"Topic8\", \"Topic8\", \"Topic8\", \"Topic8\", \"Topic8\", \"Topic8\", \"Topic8\", \"Topic8\", \"Topic8\", \"Topic8\", \"Topic8\", \"Topic8\", \"Topic8\", \"Topic8\", \"Topic8\", \"Topic8\", \"Topic8\", \"Topic9\", \"Topic9\", \"Topic9\", \"Topic9\", \"Topic9\", \"Topic9\", \"Topic9\", \"Topic9\", \"Topic9\", \"Topic9\", \"Topic9\", \"Topic9\", \"Topic9\", \"Topic9\", \"Topic9\", \"Topic9\", \"Topic9\", \"Topic9\", \"Topic9\", \"Topic9\", \"Topic9\", \"Topic9\", \"Topic9\", \"Topic9\", \"Topic9\", \"Topic9\", \"Topic9\", \"Topic9\", \"Topic9\", \"Topic9\", \"Topic9\", \"Topic9\", \"Topic9\", \"Topic9\", \"Topic9\", \"Topic9\", \"Topic9\", \"Topic9\", \"Topic9\", \"Topic9\", \"Topic9\", \"Topic9\", \"Topic9\", \"Topic9\", \"Topic9\", \"Topic9\", \"Topic9\", \"Topic9\", \"Topic9\", \"Topic9\", \"Topic10\", \"Topic10\", \"Topic10\", \"Topic10\", \"Topic10\", \"Topic10\", \"Topic10\", \"Topic10\", \"Topic10\", \"Topic10\", \"Topic10\", \"Topic10\", \"Topic10\", \"Topic10\", \"Topic10\", \"Topic10\", \"Topic10\", \"Topic10\", \"Topic10\", \"Topic10\", \"Topic10\", \"Topic10\", \"Topic10\", \"Topic10\", \"Topic10\", \"Topic10\", \"Topic10\", \"Topic10\", \"Topic10\", \"Topic10\", \"Topic10\", \"Topic10\", \"Topic10\", \"Topic10\", \"Topic10\", \"Topic10\"], \"Term\": [\"STATE DEPT\", \"NO FOIA\", \"SENSITIVE INFORMATION\", \"PRODUCED TO\", \"AGREEMENT ON\", \"DEPT PRODUCED\", \"HOUSE SELECT\", \"No F201504841\", \"TO HOUSE\", \"SUBJECT TO\", \"REDACTIONS NO\", \"INFORMATION REDACTIONS\", \"SELECT BENGHAZI\", \"TO AGREEMENT\", \"ON SENSITIVE\", \"BENGHAZI COMM\", \"FOIA WAIVER\", \"F201504841 Doc\", \"Date 05132015\", \"COMM SUBJECT\", \"05132015 STATE\", \"Jiloty Lauren\", \"Secretarys Office\", \"Valmoro Lona\", \"From Jiloty\", \"State Department\", \"Verma Richard\", \"Lauren JilotyLCstategov\", \"White House\", \"En route\", \"STATE DEPT\", \"SENSITIVE INFORMATION\", \"INFORMATION REDACTIONS\", \"SUBJECT TO\", \"NO FOIA\", \"HOUSE SELECT\", \"TO AGREEMENT\", \"No F201504841\", \"ON SENSITIVE\", \"AGREEMENT ON\", \"FOIA WAIVER\", \"PRODUCED TO\", \"TO HOUSE\", \"SELECT BENGHAZI\", \"BENGHAZI COMM\", \"REDACTIONS NO\", \"DEPT PRODUCED\", \"F201504841 Doc\", \"Date 05132015\", \"COMM SUBJECT\", \"05132015 STATE\", \"WAIVER RELEASE\", \"Hanley Monica\", \"sensitive source\", \"Source Comment\", \"15 2012\", \"From Hanley\", \"American Jewish\", \"National Transitional\", \"Transitional Council\", \"In opinion\", \"SECRETARY CLINTON\", \"September 15\", \"Prime Minister\", \"Saturday September\", \"Slaughter AnneMarie\", \"From Slaughter\", \"West Bank\", \"AnneMarie SlaughterAstategov\", \"Mr Obama\", \"York Times\", \"16 2010\", \"Balderston Kris\", \"Subject Reuters\", \"secretary state\", \"October 2010\", \"Bill Clinton\", \"To Slaughter\", \"The New\", \"SlaughterAstategov Sent\", \"chief staff\", \"peace talks\", \"officials said\", \"Supreme Court\", \"Mr Obamas\", \"Palestinian state\", \"nuclear weapons\", \"Public Diplomacy\", \"From Balderston\", \"public affairs\", \"Abu Mazen\", \"Financial Times\", \"AnneMarie Sent\", \"Benjamin Netanyahu\", \"US policy\", \"Obama administration\", \"Wall Street\", \"White House\", \"New York\", \"President Obama\", \"Barack Obama\", \"official said\", \"Security Council\", \"national security\", \"foreign policy\", \"human rights\", \"Middle East\", \"President Barack\", \"Saudi Arabia\", \"United Nations\", \"health care\", \"years ago\", \"Prime Minister\", \"He said\", \"Hillary Clinton\", \"State Department\", \"prime minister\", \"peace process\", \"07312015 UNCLASSIFIED\", \"The United\", \"Human Rights\", \"NEWSMahogany Cc\", \"11 2010\", \"Sat Feb\", \"Strobe Talbott\", \"Fw Reuters\", \"Cherie Blair\", \"Call Sheet\", \"Curtis Meghann\", \"Saturday February\", \"Fri Feb\", \"Huma AbedinH\", \"Feb 06\", \"The deal\", \"SENSITIVE BUT\", \"BUT UNCLASSIFIED\", \"SESOShiftII Sent\", \"To NEWSMahogany\", \"Cc SESOShiftII\", \"Mon Feb\", \"Mubarak Call\", \"Friends Haiti\", \"2026471512 UNCLASSIFIED\", \"Fuchs Michael\", \"Cc SES00S\", \"Sunday February\", \"From Strobe\", \"Merten Kenneth\", \"Saturday May\", \"intended recipient\", \"January 15\", \"Sunday January\", \"Sun Jan\", \"17 2010\", \"AbedinH stategov\", \"Watch Officer\", \"Operations Center\", \"Thursday February\", \"15 2010\", \"Cheryl Cc\", \"MillsCDstategov To\", \"stategov Sent\", \"19 2010\", \"PART B5B6\", \"B5B6 From\", \"February 2010\", \"Toiv Nora\", \"B6 UNCLASSIFIED\", \"Cheryl Sent\", \"millscdstategov Subject\", \"To millscdstategov\", \"let know\", \"30 2010\", \"Wednesday August\", \"mailtoHDR22clintonemailcom Sent\", \"From mailtoHDR22clintonemailcom\", \"Huma Sent\", \"14 2010\", \"12 2010\", \"Verveer Melanne\", \"public diplomacy\", \"From Verveer\", \"Melanne VerveerMSstategov\", \"Aug 07\", \"foreign assistance\", \"Thu Jan\", \"Food Security\", \"Klevorick Caitlin\", \"Grameen Bank\", \"From Reines\", \"Republican Party\", \"care reform\", \"Philippe reinespstategov\", \"John Boehner\", \"To Verveer\", \"To Reines\", \"diplomacy development\", \"Sat Jun\", \"DC 20520\", \"Russo Robert\", \"Saturday June\", \"Secretary Clintons\", \"Cold War\", \"Jun 12\", \"Afghan women\", \"FY 2010\", \"Melanne Sent\", \"April 24\", \"Wireless BlackBerry\", \"Street NW\", \"Reines Philippe\", \"Secretary Clinton\", \"Monday December\", \"General Assembly\", \"Washington DC\", \"State 2201\", \"Thursday January\", \"Fri Aug\", \"Thursday September\", \"food security\", \"US Embassy\", \"State Department\", \"health care\", \"Hillary Clinton\", \"human rights\", \"07312015 UNCLASSIFIED\", \"Cc Sullivan\", \"MillsCDstategov To\", \"foreign policy\", \"Cheryl Sent\", \"Jacob Sent\", \"Sun Aug\", \"Wed Dec\", \"Verma Richard\", \"text Davutoglu\", \"TurkeyArmenia text\", \"Fw AP\", \"Subject AP\", \"Aug 30\", \"Sat Sep\", \"From Verma\", \"Re TurkeyArmenia\", \"08312015 B5\", \"Rodriguez Miguel\", \"Valenzuela Arturo\", \"Macmanus Joseph\", \"December 22\", \"Philip To\", \"VermaRRstategov Sent\", \"From Gordon\", \"Sep 01\", \"Scanlon Amy\", \"August 30\", \"Kaidanow Tina\", \"Jacob Kaidanow\", \"Tina Scanlon\", \"Bond Michele\", \"Dec 23\", \"Tue Sep\", \"From Rodriguez\", \"McEldowney Nancy\", \"Sunday August\", \"Richard VermaRRstategov\", \"Gordon Philip\", \"Wednesday December\", \"Richard Sent\", \"To Verma\", \"23 2009\", \"Huma Sent\", \"Burns William\", \"24 2009\", \"Thu Dec\", \"Lew Jacob\", \"Cc Sullivan\", \"abedinhstategov Subject\", \"To abedinhstategov\", \"22 2009\", \"Tuesday December\", \"Crowley Philip\", \"07312015 UNCLASSIFIED\", \"B5 UNCLASSIFIED\", \"14B 14D\", \"Muscatine Lissa\", \"14D B1\", \"DAS AGIS\", \"AGIS DoS\", \"Class CONFIDENTIAL\", \"Classified DAS\", \"CONFIDENTIAL Reason\", \"14D Declassify\", \"From McHale\", \"DoS 08272015\", \"08272015 Class\", \"Reason 14B\", \"Judith McHaleJAstategov\", \"From Muscatine\", \"To McHale\", \"Subject Call\", \"Re Call\", \"Lissa MuscatineLstategov\", \"email attachments\", \"July 14\", \"Trying youcall\", \"youcall ops\", \"To Muscatine\", \"August 25\", \"VermaRRstategov To\", \"Call list\", \"Subject Out\", \"Out Office\", \"B1 14B\", \"McHale Judith\", \"August 28\", \"Tuesday July\", \"December 2010\", \"25 2010\", \"From mailtoHDR22clintonemailcom\", \"mailtoHDR22clintonemailcom Sent\", \"Cc Huma\", \"Valmoro Lona\", \"From Valmoro\", \"To Valmoro\", \"Lona ValmoroUstategov\", \"To ValmoroUstategov\", \"ValmoroUstategov Sent\", \"Lona Valmoro\", \"Sunday March\", \"May 31\", \"Subject Schedule\", \"ValmoroUstategov Huma\", \"Re Schedule\", \"Valmoro Special\", \"To Cheryl\", \"Sun Mar\", \"January 24\", \"Lona Sent\", \"May 13\", \"March 21\", \"Lona Subject\", \"ValmoroUstategov To\", \"Mar 21\", \"dinner evening\", \"Web site\", \"From Lissa\", \"VerveerMSstategov Sent\", \"BlackBerry ATT\", \"Abedin Cc\", \"think tank\", \"ValmoroUstategov Subject\", \"From Huma\", \"To Huma\", \"January 22\", \"Abedin Sent\", \"Tuesday January\", \"Thursday May\", \"Lona Huma\", \"Sunday May\", \"Abedin Subject\", \"21 2010\", \"Cheryl Mills\", \"Abedin Humaclintonemailcom\", \"Special Assistant\", \"Friday January\", \"23 2010\", \"Assistant Secretary\", \"Cc Huma\", \"sullivanjjstategov Subject\", \"To sullivanjjstategov\", \"24 2010\", \"From To\", \"May 2010\", \"Id like\", \"Sid Re\", \"Sinn Fein\", \"PIR preines\", \"Wednesday January\", \"Peter Robinson\", \"To PIR\", \"Brava Issue\", \"Bravo Brava\", \"statement Sid\", \"Issue statement\", \"Evergreen To\", \"powers devolved\", \"From Evergreen\", \"policing justice\", \"justice powers\", \"Feb 05\", \"aid dollars\", \"powersharing government\", \"policing powers\", \"12 April\", \"Martin McGuinness\", \"Re Bravo\", \"dollars buy\", \"Billions aid\", \"little goodwill\", \"goodwill Pakistan\", \"person US\", \"foreign nation\", \"nation leader\", \"Any foreign\", \"Northern Ireland\", \"From PIR\", \"May 27\", \"preines Sent\", \"Sri Lanka\", \"To preines\", \"Gordon Brown\", \"To sbwhoeop\", \"Sid UNCLASSIFIED\", \"From sbwhoeop\", \"sbwhoeop To\", \"sbwhoeop Sent\", \"Xpress Mail\", \"Sent Cingular\", \"Cingular Xpress\", \"Mail Blackberry\", \"said The\", \"email UNCLASSIFIED\", \"Feltman Jeffrey\", \"Harold Hongju\", \"Koh Harold\", \"Windrush Ventures\", \"Sat Dec\", \"Wed Feb\", \"SBU This\", \"Reynoso Julissa\", \"Office Tony\", \"Re Info\", \"February 10\", \"Feb 10\", \"Rooney Megan\", \"Campbell Kurt\", \"50 Broadway\", \"Broadway London\", \"202 647\", \"SW1H OBL\", \"Internet freedom\", \"Dec 12\", \"From Feltman\", \"From Koh\", \"November 28\", \"2201 St\", \"SESOShiftI Sent\", \"Mark Hyman\", \"Max Blumenthal\", \"Tea Party\", \"Todd SSECC\", \"Stern Todd\", \"This email\", \"Friday March\", \"Saturday December\", \"Wednesday February\", \"million dollars\", \"London SW1H\", \"The Office\", \"St NW\", \"Affairs Department\", \"10 2010\", \"UNCLASSIFIED UNCLASSIFIED\", \"Jacob Sent\", \"Tony Blair\", \"Shannon Thomas\", \"To sullivanjjstategov\", \"26 2010\", \"sullivanjjstategov Subject\", \"Sullivan Jacobi\", \"Jacob Subject\", \"Jiloty Lauren\", \"Secretarys Office\", \"From Jiloty\", \"Lauren JilotyLCstategov\", \"En route\", \"pm Secretarys\", \"To Jiloty\", \"JilotyLCstategov Sent\", \"Private Residence\", \"pm DEPART\", \"pm ARRIVE\", \"Mashabane update\", \"Conference Room\", \"Thu Aug\", \"Aug 26\", \"OFFICE TIME\", \"Secretarys Conference\", \"JilotyLCstategov To\", \"Re Mashabane\", \"Lauren Sent\", \"DEPART State\", \"Department En\", \"ARRIVE State\", \"STAFF MEETING\", \"pm OFFICE\", \"Mini Schedule\", \"Treaty Room\", \"Lauren Subject\", \"route State\", \"pm MEETING\", \"Thursday August\", \"Cc Abedin\", \"State Department\", \"Huma Subject\", \"August 26\", \"White House\"], \"loglift\": [30.0, 29.0, 28.0, 27.0, 26.0, 25.0, 24.0, 23.0, 22.0, 21.0, 20.0, 19.0, 18.0, 17.0, 16.0, 15.0, 14.0, 13.0, 12.0, 11.0, 10.0, 9.0, 8.0, 7.0, 6.0, 5.0, 4.0, 3.0, 2.0, 1.0, 1.7998000000000001, 1.7998000000000001, 1.7998000000000001, 1.7998000000000001, 1.7998000000000001, 1.7998000000000001, 1.7998000000000001, 1.7998000000000001, 1.7998000000000001, 1.7998000000000001, 1.7998000000000001, 1.7998000000000001, 1.7998000000000001, 1.7998000000000001, 1.7998000000000001, 1.7998000000000001, 1.7998000000000001, 1.7998000000000001, 1.7998000000000001, 1.7998000000000001, 1.7998000000000001, 1.7972999999999999, 1.7970999999999999, 1.7965, 1.7954000000000001, 1.7947, 1.7937000000000001, 1.7934000000000001, 1.7931999999999999, 1.7926, 1.7543, 1.6228, 1.6013999999999999, 0.4773, 1.1616, 1.8400000000000001, 1.8381000000000001, 1.8376999999999999, 1.8371999999999999, 1.8364, 1.8360000000000001, 1.8360000000000001, 1.8357000000000001, 1.8357000000000001, 1.8354999999999999, 1.8352999999999999, 1.8352999999999999, 1.8349, 1.8346, 1.8340000000000001, 1.8339000000000001, 1.8338000000000001, 1.8337000000000001, 1.8331999999999999, 1.8328, 1.8324, 1.8323, 1.8314999999999999, 1.8309, 1.8307, 1.8306, 1.8303, 1.8301000000000001, 1.8291999999999999, 1.8287, 1.8240000000000001, 1.8121, 1.6613, 1.6801999999999999, 1.7108000000000001, 1.7363, 1.7985, 1.7454000000000001, 1.7035, 1.5585, 1.4568000000000001, 1.45, 1.7363999999999999, 1.6426000000000001, 1.4330000000000001, 1.3686, 1.6003000000000001, 1.0658000000000001, 1.4382999999999999, 1.1987000000000001, 0.6915, 1.4379, 1.5879000000000001, 0.64139999999999997, 1.4199999999999999, 1.4933000000000001, 2.0091999999999999, 2.0085000000000002, 2.0074000000000001, 2.0070000000000001, 2.0066000000000002, 2.0057, 2.0053000000000001, 2.0053000000000001, 2.0049999999999999, 2.0049999999999999, 2.0047999999999999, 2.0045000000000002, 2.0044, 2.0042, 2.0041000000000002, 2.0034999999999998, 2.0030999999999999, 2.0030999999999999, 2.0026999999999999, 2.0024999999999999, 2.0024999999999999, 2.0022000000000002, 2.0022000000000002, 2.0019, 2.0015000000000001, 2.0013999999999998, 2.0009999999999999, 2.0007999999999999, 2.0005000000000002, 2.0004, 1.9811000000000001, 1.9617, 1.9323999999999999, 1.9744999999999999, 1.9628000000000001, 1.9080999999999999, 1.9730000000000001, 1.7965, 1.7351000000000001, 1.5659000000000001, 1.6094999999999999, 1.7547999999999999, 1.6149, 1.6335999999999999, 1.6324000000000001, 1.6639999999999999, 1.4669000000000001, 1.3683000000000001, 1.6044, 1.5518000000000001, 1.2589999999999999, 1.5408999999999999, 1.7706, 0.81889999999999996, 0.81330000000000002, 0.60050000000000003, 1.6246, 1.4025000000000001, 2.2271000000000001, 2.2254, 2.2235, 2.222, 2.2219000000000002, 2.2216999999999998, 2.2214, 2.2212999999999998, 2.2210000000000001, 2.2208999999999999, 2.2206999999999999, 2.2204999999999999, 2.2204000000000002, 2.2202000000000002, 2.2198000000000002, 2.2197, 2.2193999999999998, 2.2191999999999998, 2.2189000000000001, 2.2183000000000002, 2.2174999999999998, 2.2172000000000001, 2.2164000000000001, 2.2159, 2.2155999999999998, 2.2149999999999999, 2.2147999999999999, 2.2147999999999999, 2.2147000000000001, 2.2147000000000001, 2.1825999999999999, 2.1164999999999998, 2.0666000000000002, 2.1360999999999999, 2.1882000000000001, 1.8794, 2.1657000000000002, 1.9948999999999999, 1.9329000000000001, 1.8332999999999999, 1.9934000000000001, 1.7581, 0.74319999999999997, 1.2497, 1.0491999999999999, 0.99299999999999999, 0.51490000000000002, 0.75219999999999998, 0.75790000000000002, 0.67689999999999995, 0.65410000000000001, 0.62639999999999996, 2.3405999999999998, 2.3399000000000001, 2.3397999999999999, 2.3397000000000001, 2.3397000000000001, 2.3395000000000001, 2.3393000000000002, 2.339, 2.3384999999999998, 2.3380000000000001, 2.3374000000000001, 2.3372999999999999, 2.3368000000000002, 2.3365999999999998, 2.3361999999999998, 2.3361999999999998, 2.3361000000000001, 2.3359999999999999, 2.3353000000000002, 2.3347000000000002, 2.3344, 2.3344, 2.3334999999999999, 2.3334000000000001, 2.3334000000000001, 2.3325, 2.3323, 2.3323, 2.3321000000000001, 2.3317999999999999, 2.3241999999999998, 2.3172999999999999, 2.3159999999999998, 2.3096000000000001, 2.3037999999999998, 2.2951000000000001, 2.2479, 2.0310999999999999, 2.1867000000000001, 2.1821000000000002, 2.1486999999999998, 2.1606999999999998, 1.8086, 1.994, 1.9907999999999999, 2.1352000000000002, 2.0017999999999998, 1.8827, 1.1837, 1.7505999999999999, 2.3982999999999999, 2.3982000000000001, 2.3975, 2.3967999999999998, 2.3967999999999998, 2.3967999999999998, 2.3967999999999998, 2.3967000000000001, 2.3965000000000001, 2.3959999999999999, 2.3950999999999998, 2.3950999999999998, 2.3948999999999998, 2.3946999999999998, 2.3944000000000001, 2.3940999999999999, 2.3940999999999999, 2.3929999999999998, 2.3921999999999999, 2.3906000000000001, 2.3906000000000001, 2.3904000000000001, 2.3904000000000001, 2.3898000000000001, 2.3896999999999999, 2.3896000000000002, 2.3894000000000002, 2.3877000000000002, 2.3877000000000002, 2.3873000000000002, 2.3166000000000002, 2.3557000000000001, 2.2726999999999999, 2.2406000000000001, 1.7353000000000001, 0.85829999999999995, 0.84919999999999995, 1.2202, 2.7225999999999999, 2.7201, 2.7193999999999998, 2.7193000000000001, 2.7191999999999998, 2.7183999999999999, 2.7179000000000002, 2.7166999999999999, 2.7166999999999999, 2.7164999999999999, 2.7151999999999998, 2.7151999999999998, 2.7145999999999999, 2.7136, 2.7136, 2.7126000000000001, 2.7122000000000002, 2.7111000000000001, 2.71, 2.7094999999999998, 2.7079, 2.7071000000000001, 2.7067000000000001, 2.7063999999999999, 2.7061999999999999, 2.706, 2.7059000000000002, 2.7031000000000001, 2.7027000000000001, 2.7023999999999999, 2.6913999999999998, 2.6785000000000001, 2.6972, 2.6133999999999999, 2.6621000000000001, 2.6427999999999998, 2.6764000000000001, 2.6431, 2.5259, 2.5118999999999998, 2.48, 2.6126, 2.5331000000000001, 2.5202, 2.3519999999999999, 2.3106, 2.2536, 2.2541000000000002, 2.2368000000000001, 2.0215999999999998, 2.1476999999999999, 2.2063000000000001, 2.0472000000000001, 2.0405000000000002, 2.7332999999999998, 2.7319, 2.7303999999999999, 2.7286999999999999, 2.7284999999999999, 2.7277, 2.7277, 2.7277, 2.7277, 2.7277, 2.7275999999999998, 2.7271000000000001, 2.7242999999999999, 2.7242000000000002, 2.7238000000000002, 2.7238000000000002, 2.7235999999999998, 2.7233999999999998, 2.7229000000000001, 2.7225000000000001, 2.7223000000000002, 2.7221000000000002, 2.7221000000000002, 2.7221000000000002, 2.7221000000000002, 2.7212000000000001, 2.7212000000000001, 2.7212000000000001, 2.7208000000000001, 2.7206000000000001, 2.7155, 2.7191999999999998, 2.6962999999999999, 2.6368, 2.6472000000000002, 2.4550000000000001, 2.4369999999999998, 2.6573000000000002, 2.0562, 2.2690999999999999, 2.1204000000000001, 2.5026999999999999, 2.4992999999999999, 2.4992999999999999, 2.4992999999999999, 1.7364999999999999, 2.8085, 2.8075000000000001, 2.8056999999999999, 2.8045, 2.8037999999999998, 2.8037000000000001, 2.8028, 2.8026, 2.8018999999999998, 2.7995000000000001, 2.7993000000000001, 2.7988, 2.7982999999999998, 2.7978000000000001, 2.7970000000000002, 2.7953000000000001, 2.7953000000000001, 2.7951000000000001, 2.7949000000000002, 2.7936999999999999, 2.7936000000000001, 2.7934999999999999, 2.7930999999999999, 2.7930000000000001, 2.7923, 2.7919999999999998, 2.7915000000000001, 2.7915000000000001, 2.7911000000000001, 2.7904, 2.7904, 2.7323, 2.7501000000000002, 2.7305000000000001, 2.6619000000000002, 2.7362000000000002, 2.766, 2.6682000000000001, 2.7694000000000001, 2.7323, 2.2353000000000001, 2.3639000000000001, 1.7372000000000001, 2.1234999999999999, 2.4409000000000001, 1.4951000000000001, 1.5093000000000001, 1.4166000000000001, 1.6155999999999999, 0.96140000000000003, 2.8391999999999999, 2.8386, 2.8384999999999998, 2.8382999999999998, 2.8378000000000001, 2.8374999999999999, 2.8372999999999999, 2.8369, 2.8368000000000002, 2.8365, 2.8365, 2.8359000000000001, 2.8357000000000001, 2.8355000000000001, 2.8353000000000002, 2.835, 2.8349000000000002, 2.8348, 2.8340999999999998, 2.8340000000000001, 2.8334000000000001, 2.8332999999999999, 2.8325999999999998, 2.8323999999999998, 2.8321000000000001, 2.8315999999999999, 2.8315999999999999, 2.8315999999999999, 2.8311999999999999, 2.831, 2.7578999999999998, 2.2599, 1.8361000000000001, 2.0884999999999998, 2.6459999999999999, 0.80579999999999996], \"Freq\": [1641.0, 1638.0, 1638.0, 1638.0, 1638.0, 1638.0, 1638.0, 1638.0, 1638.0, 1638.0, 1638.0, 1638.0, 1638.0, 1638.0, 1638.0, 1638.0, 1638.0, 1637.0, 1631.0, 1595.0, 1585.0, 930.0, 551.0, 553.0, 530.0, 1036.0, 569.0, 459.0, 934.0, 370.0, 1640.2424263605997, 1637.3464141136865, 1637.3464141136865, 1637.3464141136865, 1637.3464141136865, 1637.3464141136865, 1637.3464141136865, 1637.3464141136865, 1637.3464141136865, 1637.3464141136865, 1637.3464141136865, 1637.3464141136865, 1637.3464141136865, 1637.3464141136865, 1637.3464141136865, 1637.3464141136865, 1637.3464141136865, 1636.3810760973336, 1630.5890480254634, 1594.8715415613883, 1584.2528234092199, 282.97718013540708, 265.44575179888011, 222.16089119239621, 173.8939905099412, 151.69121459931145, 129.51588287729237, 122.87751335979847, 119.83506156850352, 111.14701943519933, 204.18838929711023, 223.80175640355674, 133.27029069359244, 177.95660805451311, 147.52515941332109, 450.36005599151719, 231.73231010755916, 207.27884860495624, 187.31868427391663, 158.93085320088136, 149.42615404444413, 148.86792240306173, 143.18692345729949, 141.88097644393324, 138.66893706004728, 134.57586999860186, 133.51859479739136, 125.5240145872463, 120.20489775530946, 111.30638835186022, 109.99782180391078, 108.60217465871237, 107.61383335739076, 101.65281191827155, 97.427144791064904, 93.452675312721439, 91.937347938767246, 85.228215918128157, 80.616674839251147, 79.218254105835982, 78.031041529140424, 76.480427695551427, 74.906540795491892, 69.769589821291277, 66.774215868756343, 235.2921559315561, 105.40731591117984, 780.06672968423868, 515.34346058049255, 338.10348810730926, 227.79203636366137, 113.13770873111737, 185.40108179493228, 263.88260306136044, 372.25488738932773, 321.32787832415949, 315.95833262975981, 127.18247041211647, 155.91739843956898, 222.64697153743808, 237.37849261833901, 152.12054830961139, 307.45591895614155, 182.24832625827932, 237.22698054714058, 328.05653799366405, 165.95469542762379, 150.90911400072736, 229.74956222841291, 147.78769202475985, 143.2710011019104, 225.57649377378465, 191.71757067195074, 154.79472743145766, 144.76343575721236, 136.70907558616489, 119.54177011224652, 113.88939069768449, 113.18443438790975, 109.6664797062913, 108.97655333643335, 107.9130349784468, 102.46267265357103, 102.20300362802777, 100.0843268788275, 98.283962665314675, 92.755661109837234, 304.7283703641391, 88.172929960840534, 84.92616773644211, 83.960043584183126, 83.764662896496191, 81.353640423157472, 81.272564923377516, 78.991654467897732, 76.127439425227237, 75.523573551800212, 73.358380338606608, 94.789281992337393, 70.061877187926015, 69.886903858266379, 206.45253602532975, 169.1195583047253, 182.8279168809504, 103.4740287862474, 98.451693984985866, 136.13029826228387, 91.169554911186623, 169.76229608912368, 199.96541858289521, 299.14976563574487, 239.1999067432109, 158.80842443562051, 221.30238584086851, 208.25199290428682, 177.75777215715621, 168.42251989041853, 223.44652886875224, 253.9308623320151, 165.63640101652797, 160.2249052491205, 209.34865585176269, 144.94941506513607, 118.22740035111241, 162.17134941949402, 161.89414249267557, 151.84660356567903, 122.61726743433512, 122.17219919916947, 256.94135060197414, 171.27335962248176, 125.30479469867008, 104.0441975038612, 102.21120116600903, 99.605447722302259, 102.81528628286081, 96.265418183415548, 92.873343499348479, 91.415309993754022, 89.711581738135081, 88.489449563947005, 87.074414475820959, 85.311517490461853, 82.661321297036395, 81.779041091987978, 79.709997149298758, 78.155090232464005, 75.732257602081319, 72.451520609709249, 67.655239393504814, 66.125420137495453, 62.313425273059998, 60.372161141765559, 58.986296204158798, 56.750113359064898, 55.936754587908524, 55.911975770209175, 56.361690520691326, 55.683490622200623, 121.36365468164119, 355.52549489178614, 392.18778615849357, 124.72145986966852, 68.43480846388951, 254.2352886739958, 72.361968767253771, 131.10573128806064, 156.06200065939439, 134.9492349259273, 99.519300532218736, 114.66216387098473, 234.24082671588465, 142.89828674805145, 138.50914989648581, 137.00921612463347, 137.25327205928923, 113.98661702294535, 107.28876699728569, 104.53007813833023, 100.03102834108734, 99.016319083848586, 242.01674490544872, 203.35251583118003, 566.5932661340986, 194.21495501212323, 194.21495501212323, 184.57124438781835, 178.91478891668135, 166.08566902899096, 152.20223731331359, 270.34217250840203, 128.84458498371052, 126.62927067844417, 118.43205189976398, 114.60976219823212, 109.16839252036674, 109.01572885984484, 108.44462399500526, 106.65150917834239, 97.624053882520982, 92.142725195165241, 89.331167637905182, 89.311276520315403, 81.676409891851648, 80.919428730226485, 80.560250339100264, 74.853568710763227, 73.224162203807765, 160.11693211591984, 72.22195316579284, 70.127597256768752, 189.84809621571887, 195.03893174230814, 188.04744560403753, 252.09182787761932, 137.82490370227839, 153.99180216877824, 167.88831575640833, 455.93590821783687, 185.88352879182395, 152.16632480317725, 167.74470016527167, 151.65398889151274, 292.59771807931799, 196.28208665893078, 193.15884216929348, 146.95256556448166, 153.44764886638728, 164.57596695432727, 239.12041733872437, 174.78724000453488, 303.65872670758358, 292.36537472198995, 240.84179855538954, 202.06437104928671, 202.06437104928574, 201.34387660364959, 200.73784458294085, 196.18747907622833, 188.66846429713661, 170.04161489091209, 144.69081357535413, 144.69081357535413, 139.86268490354982, 135.85959297974901, 130.55307239398974, 124.29012920007879, 124.04339006419956, 107.14465819372363, 97.852612822013811, 83.272360278905182, 83.145829863381422, 81.462963265555828, 81.462963265555828, 77.585260071665289, 76.868821609858486, 75.915311616575224, 74.761929710856194, 65.462731722694329, 65.462731722694329, 63.559218255434402, 329.895027469637, 104.72380730127075, 108.67688705846729, 103.35994098249351, 124.99397232082704, 114.88217170628303, 113.39647353194795, 96.834944056544984, 552.93026167653443, 218.90345982099217, 184.00053190016797, 182.9636330157231, 176.48452736397488, 153.11271163832873, 140.09569942639112, 118.47792973486521, 118.16315475714835, 114.82947221227978, 99.017718416485749, 98.359869873124552, 92.498120874891981, 83.57501514450108, 83.474969324952582, 76.79697787099667, 73.889310539427399, 67.694576261616305, 62.521760851702318, 60.213963247116837, 54.272096995834062, 51.832004428277315, 50.466167184852523, 49.644527144473322, 49.218239265495221, 48.691112318547475, 48.31276647470515, 41.785132167300034, 41.024847342986881, 104.19990726625041, 142.73227475561529, 249.65415350263623, 73.210975613838272, 279.35420393346033, 101.83514731540377, 132.86309479895871, 76.166149256760292, 102.23307789176552, 275.27489220490912, 238.59791815945715, 233.54841248755957, 104.22681548690703, 117.57695221468343, 118.32848799425665, 181.11784504636418, 179.68347649788353, 197.03743645362005, 181.8928583646514, 167.23981053449305, 147.25311825845412, 132.15598196204331, 113.44520269668782, 107.71977866733141, 107.49801289683992, 147.83542854978145, 120.33006746349902, 100.15255768776555, 83.361834351108911, 81.802929341286884, 76.747173991140798, 76.747173991140798, 76.747173991140798, 76.747173991140798, 76.645644930364668, 76.04733907634693, 72.451603873412736, 59.022740830146383, 58.679130946492243, 57.284396540689492, 57.076254143470337, 56.65734465695396, 55.884761993973427, 54.008471323405821, 52.811936976661649, 52.236478601583421, 51.685745555100993, 51.685745555100993, 51.685745555100993, 51.685745555100993, 49.08446039576134, 49.084438815269124, 48.851138400359233, 47.913042538909892, 265.41004270940084, 133.80277264971906, 82.427391517667601, 67.526389524250064, 80.22172189948499, 62.233656705933903, 98.629160152128748, 100.85074584409591, 59.912011486172737, 193.02873811614424, 115.37516819696808, 136.63941195741486, 61.47198305855953, 60.527994193238825, 60.527994193238364, 60.523391547926501, 63.044475348536828, 224.01535920986754, 179.46968903341346, 132.07482178344515, 111.6613277220802, 102.16355452088048, 101.57267821213048, 92.356076281795666, 90.047016678806301, 84.180514859557121, 68.539310993465875, 67.338444397603126, 64.952235181657059, 62.614759227209717, 60.585421975826208, 57.329955033435311, 51.72718921438446, 51.72718921438446, 51.021885728226167, 50.526323429668629, 47.31614723113622, 46.890534142645009, 46.6573000395367, 45.832954179852962, 45.603093532359786, 43.921425254998645, 43.379114767303669, 42.208375619720137, 42.151588896982602, 182.40891846382837, 40.062590676200585, 40.062590676200585, 316.18233258022013, 79.104381847025152, 94.50129058924729, 99.15333643819605, 61.194985956630418, 50.523661804000191, 72.644026582177759, 49.80917724268118, 54.682373830732608, 116.50866831556296, 91.960436085743595, 168.02837637963805, 89.970101229128773, 60.213495777552041, 72.923716528288594, 71.267929325533018, 72.063588558128885, 67.647088894063856, 63.125023886565202, 929.18844658732712, 550.88870276016382, 529.18995209572927, 458.24875005318546, 369.72123543330235, 328.9308006925998, 303.24555413994142, 269.51926217452115, 262.5526392112638, 242.37946655691161, 240.40358109473121, 207.48586289926715, 198.34235186531453, 190.80523995100171, 181.94273732218628, 171.2732181355932, 166.08013789276973, 163.42735743148933, 145.14146326714427, 142.01592409575943, 129.89635806703862, 129.5367093283235, 116.19812965809085, 114.08667184823111, 108.9330725490928, 103.53741154259671, 103.19185077525707, 102.54282391249951, 98.837996071977003, 95.896958984121127, 153.44443117032239, 303.88241875655871, 379.78049456676013, 161.64205874143093, 106.60050824700585, 122.19249490455921], \"Total\": [1641.0, 1638.0, 1638.0, 1638.0, 1638.0, 1638.0, 1638.0, 1638.0, 1638.0, 1638.0, 1638.0, 1638.0, 1638.0, 1638.0, 1638.0, 1638.0, 1638.0, 1637.0, 1631.0, 1595.0, 1585.0, 930.0, 551.0, 553.0, 530.0, 1036.0, 569.0, 459.0, 934.0, 370.0, 1641.095869332883, 1638.1998558253892, 1638.1998558253892, 1638.1998558253895, 1638.1998558253892, 1638.1998558253895, 1638.1998558253895, 1638.1998558253892, 1638.1998558253895, 1638.1998558253892, 1638.1998558253892, 1638.1998558253892, 1638.1998558253892, 1638.1998558253895, 1638.1998558253895, 1638.1998558253897, 1638.1998558253897, 1637.2345178112491, 1631.4424897339452, 1595.7249832514615, 1585.1062651038942, 283.83062284846551, 266.29939257138341, 223.01432969931074, 174.74742903735628, 152.54465430591767, 130.36942253555605, 123.73148557323536, 120.68850022881846, 112.00045810442928, 213.79033208683373, 267.25942345702049, 162.59463591886575, 668.13364118058621, 279.41024395132587, 451.25381644445093, 232.62603872146659, 208.17255415462961, 188.21241563823182, 159.82455746353884, 150.31988276506533, 149.76199156923528, 144.08065772995627, 142.77490481315581, 139.56267538722736, 135.47031724104392, 134.41230348621468, 126.4177705668385, 121.09861303007808, 112.20014525264641, 110.89155972408588, 109.49592261448807, 108.50776418006456, 102.54677748232736, 98.3208377520791, 94.346381613677281, 92.831054287786827, 86.12198415436238, 81.510403451880208, 80.111961662446191, 78.925551150622596, 77.374112703860661, 75.800266399869273, 70.663354227563588, 67.667964883130196, 239.55652437026333, 108.59754710906259, 934.5348387906638, 605.83973601203775, 385.4797396860771, 253.19035327439738, 118.16737124666736, 204.19062655899785, 303.07678073748156, 494.26682396782616, 472.30694185054983, 467.57312785794596, 141.34422613134569, 190.31234772700205, 335.13622536935213, 381.07285086715024, 193.71094172576312, 668.13364118058621, 272.87907287360713, 451.34613710264392, 1036.5853329558927, 248.59360573967948, 194.56705769449778, 763.18951998959653, 225.36033516989295, 203.04534993304591, 226.47078988147101, 192.61200891790904, 155.68902205646128, 145.65769551078287, 137.60336950382631, 120.43601777943007, 114.78363901473031, 114.07875318302388, 110.56088374337423, 109.87197640251274, 108.81180381745718, 103.3569218202918, 103.10485764579857, 100.97866150931868, 99.17829474136326, 93.649948421698795, 307.81113494918003, 89.067209935834811, 85.820469116221844, 84.85428014940436, 84.658928337859592, 82.248261025677266, 82.16691484507156, 79.885990628913035, 77.021909759288889, 76.417829079156817, 74.252677311925609, 95.969195329673227, 70.956678050449028, 70.781334133042648, 213.16526803380657, 178.05107683355368, 198.21061766754917, 107.55095412819315, 103.53984873582084, 151.21500610567517, 94.907940553134083, 210.82604762833958, 264.05227313044452, 467.86218702928778, 358.15684603596259, 205.61979135898119, 329.55955622176009, 304.38467804678709, 260.11409045214276, 238.79266500652938, 385.82278857574619, 483.89672195860533, 249.2803692501202, 254.14974885776556, 445.038487653424, 232.44839577805169, 150.67595733981483, 535.34684850976453, 537.43084867320158, 623.59966798902008, 180.84742082915972, 224.98511847072785, 257.83033395435353, 172.16369125816087, 126.19376750038799, 104.93317233858889, 103.10017069566895, 100.49442390128443, 103.75945739755231, 97.154538132108129, 93.762417673285569, 92.304286540627203, 90.600680708076624, 89.378531182241829, 87.96345276228773, 86.200614684908913, 83.550376786756985, 82.668013785479872, 80.599369175596166, 79.044114339250882, 76.621243743267883, 73.340573453271432, 68.544310876538162, 67.014444442612842, 63.202495827658588, 61.26123161575326, 59.875273568859747, 57.63912145529028, 56.825748302226962, 56.800962697713032, 57.260357592193088, 56.572506252082668, 127.32829566394024, 398.45682344614596, 462.06795337792971, 137.07930891390467, 71.397479033007144, 361.19751246933049, 77.206260705337826, 165.94137348568552, 210.1684684836853, 200.76461947506846, 126.15358910916055, 183.90518968410308, 1036.5853329558927, 381.07285086715024, 451.34613710264392, 472.30694185054983, 763.18951998959653, 499.89676072742384, 467.86218702928778, 494.26682396782616, 483.89672195860533, 492.48590321517861, 242.89898271724084, 204.23489743349282, 569.13112900097008, 195.09713161264733, 195.09713161264733, 185.45365606576249, 179.79720838445996, 166.96787393976541, 153.08462026552732, 272.02438962986361, 129.72676158463301, 127.51217942914201, 119.31425708416604, 115.49205198020276, 110.0506735155079, 109.89796713601822, 109.32685822382564, 107.53373893670945, 98.506266357524041, 93.02492129254864, 90.21335205465256, 90.193503234478044, 82.558586953196283, 81.801605795984244, 81.442426938904845, 75.735800870078478, 74.106357384779059, 162.04922552666841, 73.104166316810549, 71.009812947843329, 193.69449202214992, 200.37162958593495, 193.42907408562229, 260.9738139160221, 143.51533631388767, 161.75499474663144, 184.86881825916439, 623.59966798902008, 217.60967742010192, 178.94585798978059, 203.98455882537189, 182.20307429257326, 499.89676072742384, 278.61817800541098, 275.05313558300207, 181.12001981813179, 216.11904580479143, 261.10832594496009, 763.18951998959653, 316.48329904809771, 304.54604624222679, 293.25268882868897, 241.72908633663212, 202.95166439242627, 202.95166439242624, 202.23116942087563, 201.62513780735941, 197.07476599837025, 189.5557551758113, 170.92894803340863, 145.57813806619012, 145.57813806619012, 140.74999114731756, 136.74692329013283, 131.44033325355792, 125.17745208804993, 124.9307374571236, 108.03192619431145, 98.739871964089772, 84.160096142407255, 84.033126133113697, 82.350213505972903, 82.350213505972903, 78.472526802512263, 77.756202617141199, 76.802753801030335, 75.649188805234715, 66.349977963818759, 66.349977963818759, 64.446660095830111, 359.00347620934514, 109.60401728431081, 123.57964118324594, 121.37064878686786, 243.2790449206245, 537.43084867320158, 535.34684850976453, 315.44415600969745, 553.82323487427982, 219.79639259871897, 184.89346072797679, 183.85657338020604, 177.37745381566032, 154.00566445841315, 140.98863686792609, 119.37091507755727, 119.05611364660035, 115.72245030268235, 99.910641055455827, 99.252791016440568, 93.391045633600285, 84.467978807366137, 84.367938226999684, 77.690032357325606, 74.78225458327789, 68.587572881223025, 63.4146984812281, 61.106952833005444, 55.165011991782045, 52.724949842359045, 51.359222071207903, 50.537922443749508, 50.11118920864665, 49.584706710877576, 49.205734071945095, 42.678088658333337, 41.917983956722068, 106.49458463416553, 147.49233598979754, 261.31708749769058, 75.213034747410887, 312.07315804803551, 108.35920656993181, 144.1258906054606, 79.897191584365558, 110.87135585355678, 335.63853151043361, 295.04699812991407, 298.14463201205604, 116.53626304108198, 142.34237135759483, 145.11380683809173, 262.80083622820547, 271.72576586927329, 315.44415600969745, 291.0441112064334, 272.27899970872784, 297.31708563512302, 235.21836652732767, 190.42628179485828, 211.9900407728876, 212.9678421429189, 148.73426768223877, 121.22897406193177, 101.05181880046412, 84.260675898594471, 82.701791484779562, 77.646003874387461, 77.646003874387461, 77.646003874387461, 77.646003874387461, 77.544508162131194, 76.946169948157674, 73.350467399174889, 59.921578089180301, 59.577965411628547, 58.183262851129257, 57.975155383861861, 57.556175656417089, 56.783592342302946, 54.907301361246091, 53.710782954405914, 53.13532393634226, 52.584589935644523, 52.584589935644523, 52.584589935644523, 52.584589935644523, 49.98329633173514, 49.983297961186601, 49.750021341563006, 48.811872466318889, 270.45490760986553, 137.04053286656173, 84.105460710291268, 70.499580051868477, 88.889385371939213, 68.246250468127528, 131.07428984032583, 136.45575063474709, 65.037138866716873, 382.23277130851449, 184.64674131336446, 253.7507823889606, 77.886350037483027, 76.948978260207753, 76.948978260207795, 76.949587636838359, 171.86257921162564, 224.91678267338639, 180.36639418538246, 132.97147424014457, 112.55798335350687, 103.06018372066498, 102.46937636204274, 93.252794914714769, 90.9441174457057, 85.077314616465017, 69.435940227052598, 68.23507451384755, 65.848896258246484, 63.511422852478233, 61.482117239021477, 58.227031355211395, 52.623818481555617, 52.623818481555617, 51.91859223209125, 51.4229526379291, 48.212978580174997, 47.78716058661665, 47.553959730606003, 46.729597672546177, 46.500026279237069, 44.818165261460734, 44.27602023587206, 43.105108952858565, 43.048406570879493, 186.36295465060846, 40.959249231196353, 40.959249231196345, 342.59146475822831, 84.196301019392479, 102.57312133854147, 115.27337989382553, 66.047319383078928, 52.92703025166886, 83.919108141218814, 52.003840132550863, 59.246529065996668, 207.50828453917995, 144.01934461595252, 492.48590321517861, 179.19798678324341, 87.310784455611966, 272.27899970872784, 262.34301482570993, 291.0441112064334, 223.91002744965621, 401.89645088756049, 930.07975072423392, 551.77997260408097, 530.08124606661329, 459.14004720951493, 370.6125068531922, 329.82207046457233, 304.13686605562174, 270.41056055433046, 263.44390947273058, 243.2707367133288, 241.29485120658262, 208.37714041744701, 199.23363615063445, 191.69656333890822, 182.83405890523352, 172.16448814498955, 166.97140772577876, 164.31865916203367, 146.03274084000668, 142.90723305116757, 130.78762844316478, 130.42797958588, 117.08940008650733, 114.97794210727815, 109.82434262514489, 104.4286814236454, 104.08320603558401, 103.43415037468019, 99.729266667044939, 96.78822843623179, 166.61329961213795, 542.92804409095322, 1036.5853329558927, 342.77513683697146, 129.4536806272931, 934.5348387906638], \"logprob\": [30.0, 29.0, 28.0, 27.0, 26.0, 25.0, 24.0, 23.0, 22.0, 21.0, 20.0, 19.0, 18.0, 17.0, 16.0, 15.0, 14.0, 13.0, 12.0, 11.0, 10.0, 9.0, 8.0, 7.0, 6.0, 5.0, 4.0, 3.0, 2.0, 1.0, -3.5865999999999998, -3.5884, -3.5884, -3.5884, -3.5884, -3.5884, -3.5884, -3.5884, -3.5884, -3.5884, -3.5884, -3.5884, -3.5884, -3.5884, -3.5884, -3.5884, -3.5884, -3.589, -3.5924999999999998, -3.6147, -3.6213000000000002, -5.3437999999999999, -5.4077999999999999, -5.5857999999999999, -5.8308, -5.9673999999999996, -6.1254, -6.1779999999999999, -6.2031000000000001, -6.2784000000000004, -5.6702000000000004, -5.5785, -6.0968, -5.8076999999999996, -5.9951999999999996, -4.8375000000000004, -5.5019999999999998, -5.6135000000000002, -5.7146999999999997, -5.8791000000000002, -5.9406999999999996, -5.9444999999999997, -5.9833999999999996, -5.9926000000000004, -6.0155000000000003, -6.0453999999999999, -6.0533000000000001, -6.1150000000000002, -6.1582999999999997, -6.2352999999999996, -6.2470999999999997, -6.2599, -6.2690000000000001, -6.3259999999999996, -6.3684000000000003, -6.4100999999999999, -6.4264000000000001, -6.5022000000000002, -6.5578000000000003, -6.5753000000000004, -6.5903999999999998, -6.6105, -6.6313000000000004, -6.7023000000000001, -6.7462, -5.4866999999999999, -6.2896999999999998, -4.2881999999999998, -4.7027000000000001, -5.1242000000000001, -5.5190999999999999, -6.2188999999999997, -5.7249999999999996, -5.3719999999999999, -5.0279999999999996, -5.1750999999999996, -5.1919000000000004, -6.1018999999999997, -5.8982000000000001, -5.5419999999999998, -5.4779, -5.9229000000000003, -5.2191999999999998, -5.7422000000000004, -5.4785000000000004, -5.1543999999999999, -5.8357999999999999, -5.9309000000000003, -5.5106000000000002, -5.9518000000000004, -5.9828000000000001, -5.3577000000000004, -5.5202999999999998, -5.7343000000000002, -5.8013000000000003, -5.8585000000000003, -5.9927000000000001, -6.0411000000000001, -6.0472999999999999, -6.0789, -6.0852000000000004, -6.0949999999999998, -6.1468999999999996, -6.1494, -6.1703000000000001, -6.1885000000000003, -6.2464000000000004, -5.0568999999999997, -6.2971000000000004, -6.3346, -6.3460000000000001, -6.3483999999999998, -6.3776000000000002, -6.3785999999999996, -6.407, -6.444, -6.4519000000000002, -6.4809999999999999, -6.2247000000000003, -6.5270000000000001, -6.5294999999999996, -5.4462999999999999, -5.6458000000000004, -5.5678000000000001, -6.1369999999999996, -6.1867999999999999, -5.8627000000000002, -6.2636000000000003, -5.6420000000000003, -5.4782000000000002, -5.0754000000000001, -5.2991000000000001, -5.7087000000000003, -5.3768000000000002, -5.4375999999999998, -5.5959000000000003, -5.6498999999999997, -5.3672000000000004, -5.2393000000000001, -5.6665999999999999, -5.6997999999999998, -5.4324000000000003, -5.7999999999999998, -6.0038, -5.6877000000000004, -5.6894, -5.7534999999999998, -5.9672999999999998, -5.9709000000000003, -5.0101000000000004, -5.4157000000000002, -5.7282000000000002, -5.9142000000000001, -5.9318999999999997, -5.9577999999999998, -5.9260000000000002, -5.9919000000000002, -6.0277000000000003, -6.0435999999999996, -6.0624000000000002, -6.0761000000000003, -6.0922000000000001, -6.1127000000000002, -6.1441999999999997, -6.1548999999999996, -6.1806000000000001, -6.2003000000000004, -6.2317999999999998, -6.2760999999999996, -6.3445, -6.3673999999999999, -6.4268000000000001, -6.4584000000000001, -6.4817, -6.5202999999999998, -6.5347, -6.5351999999999997, -6.5271999999999997, -6.5392999999999999, -5.7602000000000002, -4.6853999999999996, -4.5872000000000002, -5.7328999999999999, -6.3331, -5.0206999999999997, -6.2773000000000003, -5.6829999999999998, -5.5087000000000002, -5.6540999999999997, -5.9585999999999997, -5.8170000000000002, -5.1025999999999998, -5.5968, -5.6280000000000001, -5.6388999999999996, -5.6371000000000002, -5.8228999999999997, -5.8834, -5.9095000000000004, -5.9535, -5.9637000000000002, -4.9561999999999999, -5.1303000000000001, -4.1055999999999999, -5.1763000000000003, -5.1763000000000003, -5.2271999999999998, -5.2583000000000002, -5.3327, -5.4199999999999999, -4.8456000000000001, -5.5865999999999998, -5.6040000000000001, -5.6708999999999996, -5.7037000000000004, -5.7523999999999997, -5.7538, -5.7590000000000003, -5.7756999999999996, -5.8640999999999996, -5.9218999999999999, -5.9528999999999996, -5.9531000000000001, -6.0425000000000004, -6.0518000000000001, -6.0561999999999996, -6.1296999999999997, -6.1516999999999999, -5.3693, -6.1654999999999998, -6.1948999999999996, -5.1989999999999998, -5.1721000000000004, -5.2085999999999997, -4.9154999999999998, -5.5193000000000003, -5.4084000000000003, -5.3220000000000001, -4.3228999999999997, -5.2201000000000004, -5.4203000000000001, -5.3228, -5.4237000000000002, -4.7664999999999997, -5.1657000000000002, -5.1817000000000002, -5.4550999999999998, -5.4119000000000002, -5.3418999999999999, -4.9683000000000002, -5.2816999999999998, -4.6723999999999997, -4.7103000000000002, -4.9042000000000003, -5.0796999999999999, -5.0796999999999999, -5.0833000000000004, -5.0862999999999996, -5.1092000000000004, -5.1482999999999999, -5.2523, -5.4137000000000004, -5.4137000000000004, -5.4476000000000004, -5.4767000000000001, -5.5164999999999997, -5.5656999999999996, -5.5677000000000003, -5.7141000000000002, -5.8048000000000002, -5.9661999999999997, -5.9676999999999998, -5.9882, -5.9882, -6.0369000000000002, -6.0461999999999998, -6.0587, -6.0739999999999998, -6.2068000000000003, -6.2068000000000003, -6.2363, -4.5895000000000001, -5.7370000000000001, -5.6999000000000004, -5.7500999999999998, -5.5599999999999996, -5.6444000000000001, -5.6574, -5.8152999999999997, -3.7501000000000002, -4.6767000000000003, -4.8503999999999996, -4.8559999999999999, -4.8921000000000001, -5.0340999999999996, -5.1230000000000002, -5.2906000000000004, -5.2931999999999997, -5.3219000000000003, -5.4699999999999998, -5.4767000000000001, -5.5381, -5.6395999999999997, -5.6407999999999996, -5.7241, -5.7626999999999997, -5.8502999999999998, -5.9298000000000002, -5.9673999999999996, -6.0712999999999999, -6.1173000000000002, -6.1440000000000001, -6.1604000000000001, -6.1689999999999996, -6.1798000000000002, -6.1875999999999998, -6.3327999999999998, -6.3510999999999997, -5.4189999999999996, -5.1043000000000003, -4.5452000000000004, -5.7720000000000002, -4.4328000000000003, -5.4419000000000004, -5.1760000000000002, -5.7324000000000002, -5.4379999999999997, -4.4474999999999998, -4.5904999999999996, -4.6119000000000003, -5.4187000000000003, -5.2981999999999996, -5.2918000000000003, -4.8662000000000001, -4.8741000000000003, -4.7819000000000003, -4.8619000000000003, -4.9459, -5.0731000000000002, -5.1813000000000002, -5.3339999999999996, -5.3857999999999997, -5.3878000000000004, -5.0540000000000003, -5.2599, -5.4433999999999996, -5.6269, -5.6458000000000004, -5.7096, -5.7096, -5.7096, -5.7096, -5.7108999999999996, -5.7187999999999999, -5.7671999999999999, -5.9722, -5.9779999999999998, -6.0021000000000004, -6.0057, -6.0130999999999997, -6.0267999999999997, -6.0609999999999999, -6.0834000000000001, -6.0942999999999996, -6.1048999999999998, -6.1048999999999998, -6.1048999999999998, -6.1048999999999998, -6.1566000000000001, -6.1566000000000001, -6.1612999999999998, -6.1806999999999999, -4.4687999999999999, -5.1538000000000004, -5.6382000000000003, -5.8376000000000001, -5.6653000000000002, -5.9192, -5.4588000000000001, -5.4364999999999997, -5.9572000000000003, -4.7873000000000001, -5.3018999999999998, -5.1327999999999996, -5.9314999999999998, -5.9470000000000001, -5.9470000000000001, -5.9470999999999998, -5.9062999999999999, -4.5652999999999997, -4.7869999999999999, -5.0936000000000003, -5.2614999999999998, -5.3503999999999996, -5.3562000000000003, -5.4512999999999998, -5.4767000000000001, -5.5439999999999996, -5.7496, -5.7672999999999996, -5.8033000000000001, -5.8399999999999999, -5.8728999999999996, -5.9282000000000004, -6.0309999999999997, -6.0309999999999997, -6.0446999999999997, -6.0545, -6.1200999999999999, -6.1292, -6.1341999999999999, -6.1520000000000001, -6.157, -6.1946000000000003, -6.2069999999999999, -6.2343999999999999, -6.2356999999999996, -4.7706999999999997, -6.2866, -6.2866, -4.2206999999999999, -5.6062000000000003, -5.4283999999999999, -5.3803000000000001, -5.8628999999999998, -6.0545999999999998, -5.6913999999999998, -6.0688000000000004, -5.9755000000000003, -5.2190000000000003, -5.4555999999999996, -4.8529, -5.4775, -5.8791000000000002, -5.6875999999999998, -5.7104999999999997, -5.6993999999999998, -5.7626999999999997, -5.8319000000000001, -3.1150000000000002, -3.6377999999999999, -3.6779999999999999, -3.8218999999999999, -4.0365000000000002, -4.1535000000000002, -4.2347999999999999, -4.3526999999999996, -4.3788, -4.4588000000000001, -4.4669999999999996, -4.6142000000000003, -4.6593, -4.6980000000000004, -4.7455999999999996, -4.806, -4.8368000000000002, -4.8529, -4.9715999999999996, -4.9934000000000003, -5.0826000000000002, -5.0853000000000002, -5.194, -5.2122999999999999, -5.2586000000000004, -5.3094000000000001, -5.3127000000000004, -5.319, -5.3558000000000003, -5.3860000000000001, -4.9160000000000004, -4.2327000000000004, -4.0096999999999996, -4.8639000000000001, -5.2801999999999998, -5.1436999999999999]}};\n",
       "\n",
       "function LDAvis_load_lib(url, callback){\n",
       "  var s = document.createElement('script');\n",
       "  s.src = url;\n",
       "  s.async = true;\n",
       "  s.onreadystatechange = s.onload = callback;\n",
       "  s.onerror = function(){console.warn(\"failed to load library \" + url);};\n",
       "  document.getElementsByTagName(\"head\")[0].appendChild(s);\n",
       "}\n",
       "\n",
       "if(typeof(LDAvis) !== \"undefined\"){\n",
       "   // already loaded: just create the visualization\n",
       "   !function(LDAvis){\n",
       "       new LDAvis(\"#\" + \"ldavis_el83311406681700971042746913847\", ldavis_el83311406681700971042746913847_data);\n",
       "   }(LDAvis);\n",
       "}else if(typeof define === \"function\" && define.amd){\n",
       "   // require.js is available: use it to load d3/LDAvis\n",
       "   require.config({paths: {d3: \"https://cdnjs.cloudflare.com/ajax/libs/d3/3.5.5/d3.min\"}});\n",
       "   require([\"d3\"], function(d3){\n",
       "      window.d3 = d3;\n",
       "      LDAvis_load_lib(\"https://cdn.rawgit.com/bmabey/pyLDAvis/files/ldavis.v1.0.0.js\", function(){\n",
       "        new LDAvis(\"#\" + \"ldavis_el83311406681700971042746913847\", ldavis_el83311406681700971042746913847_data);\n",
       "      });\n",
       "    });\n",
       "}else{\n",
       "    // require.js not available: dynamically load d3 & LDAvis\n",
       "    LDAvis_load_lib(\"https://cdnjs.cloudflare.com/ajax/libs/d3/3.5.5/d3.min.js\", function(){\n",
       "         LDAvis_load_lib(\"https://cdn.rawgit.com/bmabey/pyLDAvis/files/ldavis.v1.0.0.js\", function(){\n",
       "                 new LDAvis(\"#\" + \"ldavis_el83311406681700971042746913847\", ldavis_el83311406681700971042746913847_data);\n",
       "            })\n",
       "         });\n",
       "}\n",
       "</script>"
      ],
      "text/plain": [
       "<IPython.core.display.HTML object>"
      ]
     },
     "execution_count": 25,
     "metadata": {},
     "output_type": "execute_result"
    }
   ],
   "source": [
    "pyLDAvis.enable_notebook()\n",
    "pyLDAvis.display(pyLDAvis.gensim.prepare(lda, corpus, dictionary))"
   ]
  },
  {
   "cell_type": "code",
   "execution_count": null,
   "metadata": {
    "collapsed": true
   },
   "outputs": [],
   "source": []
  }
 ],
 "metadata": {
  "kernelspec": {
   "display_name": "Python 2",
   "language": "python",
   "name": "python2"
  },
  "language_info": {
   "codemirror_mode": {
    "name": "ipython",
    "version": 2
   },
   "file_extension": ".py",
   "mimetype": "text/x-python",
   "name": "python",
   "nbconvert_exporter": "python",
   "pygments_lexer": "ipython2",
   "version": "2.7.10"
  }
 },
 "nbformat": 4,
 "nbformat_minor": 0
}
